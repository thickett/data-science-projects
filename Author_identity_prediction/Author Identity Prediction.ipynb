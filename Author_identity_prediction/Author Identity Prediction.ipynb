{
 "cells": [
  {
   "cell_type": "markdown",
   "metadata": {},
   "source": [
    "### Author Predictions using NLP and machine learning techniques; understanding how language can be used to correctly identify an individual and group similar individuals together.\n",
    "\n",
    "Online news articles are often categorized using overall categories and general context of the articles. This is great if you are interested in a specific topic. However, there may be situations where its the Author that wrote that article that is of interest to you. Maybe you like the style of writing they employ, their seemingly balanced opinions, or the controversial insights they share. In this case I believe it would be useful if there was a way to assign similarity scores between authors, and from this provide recommendations.\n",
    "\n",
    "#### Overall the project goals are split into 3 parts;\n",
    "* Gathering, cleaning, and processing Raw article data. \n",
    "* Feature engineering\n",
    "* predicating who wrote an article using topic classification (found through LDA), understanding of words and sentence types using (TF-IDF) and similarities in language used. \n",
    "\n"
   ]
  },
  {
   "cell_type": "markdown",
   "metadata": {},
   "source": [
    "#### 1. Gathering, Cleaning, and Processing raw article data.\n",
    "For the first part of this project we will focus on getting data prepared for future modelling and analysis, as well as this we will undertake some exploratory data analysis to get an idea of the quality of our data set and understand how applicable it is to the above goals.\n",
    "\n",
    "##### Goals for section 1:\n",
    "\n",
    "* web scrape a large collection of articles for use in analysis\n",
    "* Ensure the format of the scraped data is in a workable format, this includes dealing with any missing data, correcting data types and ensuring the format of data is consistent.\n",
    "* Check to see if there is a sufficient amount of successfully scraped data for a collection of different authors.\n",
    "* each article text tokenized, with stop words and punctuation removed. We will also use a genism model to ensure we capture multi-word phrases (bigrams and trigrams)\n",
    "* an overall corpus containing all tokenized text from all articles for use in TF-IDF calculations.\n"
   ]
  },
  {
   "cell_type": "markdown",
   "metadata": {},
   "source": [
    "### Understanding what makes an author unique\n",
    "\n",
    "To create a program that can give meaningful author reccomendations we first must understand the features define an author. Of course, this isnt a triveal task since we only have access to written text. Which as oppose to spoken language gives us little indication of tone, and no indication of external cues and prompts that we are usually aware of through body language, eye contact, and facial expressions. Despite these challanges there are several key written features that we can analysis to try and understand what makes an author unique, and from this generate a program that can objectivly search for similarites between different writers. \n",
    "\n",
    "#### Sentence Structure\n",
    "\n",
    "The first key features to be aware of are those that are hidden within sentence structure. From this we can get an idea of word ordering, general context, sentiment, and an idea of how sentiment changes through an article, frequency of nouns and verbs, and the presense and frequency of sarcasm, humour, irony and much more. All of these mentioned features can give an insight into how an idividual thinks and the nuances of their own speach which can be used to identify them. \n",
    "\n",
    "Many of these sentence-strucutre features can be acquired through part of speech (POS) tagging (Voutilanien, 2003). This is a technique that allows us to label words with an identifier given the definition of the word, and the context in which it is used. local-context i.e context within a single sentence, or paragraph can often be infered from word-ordering but this on its own isnt enough to understand the nuances of language, for example implicit language techniques such as sarcasm. In general, POS pairs well with word embedding techniques such as word2vec, FastText, or glOve (Mikolov et al, 2013) . Word-embedding, or neural language models are a broad expansion of the basic bag-of-word architecture (Zhang, et al, 2010). Instead of looking at words individually, without any idea of context or structure, it applies algorithims that produces vector representations of words which can be used to identify similarites between words and get a broader understanding of context. \n",
    "\n",
    "#### Word choice\n",
    "\n",
    "Typically, it is common practice in NLP tasks to lemmatize and/or stem words to get them in their most basic form while maintaining the original words meaning. This is ideal in most cases, but for us, the specific use of certain words or terms could be used as a feature for identifiying individuals, for example lets say we have two authors writing on the same subject, one may write the sentence:\n",
    "* \"John did better than Tom\"\n",
    "\n",
    "\n",
    "and another, \n",
    "* \"John did well, when compared to Tom\",  \n",
    "\n",
    "Lemmatization of these two sentences would loose some of the personailty of the writing, \"better\" in sentence 1 for example, would become \"well\". It is possible that lemmatizaion may be needed for some of the other features we wish to use, but as a first step we will try and avoid it.\n",
    "\n",
    "    input: lematize_test = WordNetLemmatizer()\n",
    "        >> better_lem = lematize_test.lemmatize(\"better\",\"r\")\n",
    "        >> well_lem = lematize_test.lemmatize(\"well\",\"r\")\n",
    "        >> print(f\"lemmatization of 'better': {better_lem}\\nlemmatization of 'well': {well_lem}\")\n",
    "    \n",
    "    output: lemmatization of 'better': well\n",
    "          >>lemmatization of 'well': well\n",
    "\n",
    "\n",
    "\n",
    "#### Term-weighting \n",
    "\n",
    "Term weighting is simply the idea of applying different weights to different words in a text based on either their frequency, or imposed importance in a given text. It is split into supervised and non-supervised term-weighting where non-supervised looks at the text as a single, large category and applies weight to words equally across the entire text. Supervised term-weighting however, seperates text into indiivdual categories, the weights applied to the word will depend on that words prevelence in its specific category. There have been a number of papers that have shown the successes of including both supervised and un-supervised term-weighting for accurate sentiment predictions. For example Carvalho and Guedes (2020) created a machine learning model for sarcasm detection, when the model was ran without any term-weighting featuers the accuracy of the model (measured by the number of tweets correctly classifed as sarcastic) was 74.59%. A second itteration of the model was ran on the same data with the top 200 TF-IDF (an example of un-supervised term-weighting) features included, the accuracy of the model increased to 81.78%. Onan and Toçoğlu (2021) also showed the importance of term-weighting by comparing a number of supervised, and un-supervised term-weighting frameworks effect on a novel neural network's success in a sentiment analysis task.\n"
   ]
  },
  {
   "cell_type": "code",
   "execution_count": 1,
   "metadata": {},
   "outputs": [
    {
     "name": "stderr",
     "output_type": "stream",
     "text": [
      "[nltk_data] Downloading package punkt to\n",
      "[nltk_data]     C:\\Users\\cthic\\AppData\\Roaming\\nltk_data...\n",
      "[nltk_data]   Package punkt is already up-to-date!\n",
      "[nltk_data] Downloading package stopwords to\n",
      "[nltk_data]     C:\\Users\\cthic\\AppData\\Roaming\\nltk_data...\n",
      "[nltk_data]   Package stopwords is already up-to-date!\n",
      "[nltk_data] Downloading package wordnet to\n",
      "[nltk_data]     C:\\Users\\cthic\\AppData\\Roaming\\nltk_data...\n",
      "[nltk_data]   Package wordnet is already up-to-date!\n",
      "[nltk_data] Downloading package omw-1.4 to\n",
      "[nltk_data]     C:\\Users\\cthic\\AppData\\Roaming\\nltk_data...\n",
      "[nltk_data]   Package omw-1.4 is already up-to-date!\n",
      "[nltk_data] Downloading package averaged_perceptron_tagger to\n",
      "[nltk_data]     C:\\Users\\cthic\\AppData\\Roaming\\nltk_data...\n",
      "[nltk_data]   Package averaged_perceptron_tagger is already up-to-\n",
      "[nltk_data]       date!\n"
     ]
    }
   ],
   "source": [
    "import sys\n",
    "import csv\n",
    "import time\n",
    "import pandas as pd\n",
    "import numpy as np\n",
    "import scrapy\n",
    "import random\n",
    "from imblearn.over_sampling import RandomOverSampler\n",
    "from scrapy.crawler import CrawlerProcess\n",
    "from webdriver_manager.chrome import ChromeDriverManager\n",
    "from selenium import webdriver\n",
    "from selenium.webdriver.common.by import By\n",
    "from datetime import datetime\n",
    "from datetime import timedelta\n",
    "import re\n",
    "from time import sleep\n",
    "import nltk\n",
    "from nltk.stem import WordNetLemmatizer \n",
    "from nltk.tokenize import word_tokenize\n",
    "from nltk.tokenize import sent_tokenize\n",
    "from nltk.corpus import stopwords\n",
    "from nltk import pos_tag\n",
    "from gensim.models.phrases import Phrases\n",
    "import matplotlib\n",
    "from gensim.utils import simple_preprocess\n",
    "import string\n",
    "from matplotlib import pyplot as plt\n",
    "import seaborn as sns\n",
    "from wordcloud import WordCloud\n",
    "import sklearn\n",
    "from sklearn.model_selection import train_test_split\n",
    "from sklearn.decomposition import LatentDirichletAllocation\n",
    "from sklearn.model_selection import StratifiedKFold\n",
    "from sklearn.naive_bayes import MultinomialNB\n",
    "from sklearn.feature_extraction.text import TfidfVectorizer\n",
    "from sklearn.preprocessing import OneHotEncoder\n",
    "from sklearn.naive_bayes import MultinomialNB\n",
    "from sklearn.linear_model import SGDClassifier\n",
    "from sklearn.metrics import classification_report\n",
    "from sklearn.metrics import accuracy_score, confusion_matrix\n",
    "from sklearn.ensemble import RandomForestClassifier, GradientBoostingClassifier\n",
    "from sklearn.model_selection import validation_curve\n",
    "from sklearn.inspection import permutation_importance\n",
    "from sklearn.decomposition import TruncatedSVD, PCA\n",
    "from sklearn.model_selection import learning_curve\n",
    "from imblearn.under_sampling import RandomUnderSampler\n",
    "from sklearn.metrics import f1_score\n",
    "from hyperopt.pyll.base import scope\n",
    "import xgboost as xgb\n",
    "from hyperopt import STATUS_OK, Trials, fmin, hp, tpe\n",
    "from sklearn.model_selection import KFold\n",
    "from sklearn.model_selection import cross_val_score\n",
    "import logging\n",
    "\n",
    "\n",
    "import os\n",
    "os.environ[\"PATH\"] += os.pathsep + 'C:\\Program Files (x86)\\Graphviz2.38/bin/'\n",
    "\n",
    "pd.options.mode.chained_assignment = None\n",
    "nltk.download('punkt')\n",
    "nltk.download('stopwords')\n",
    "nltk.download('wordnet')\n",
    "nltk.download('omw-1.4')\n",
    "nltk.download('averaged_perceptron_tagger')\n",
    "%matplotlib inline"
   ]
  },
  {
   "cell_type": "markdown",
   "metadata": {
    "pycharm": {
     "name": "#%% md\n"
    }
   },
   "source": [
    "#### Gathering data\n",
    "For the purpose of this project it doesnt matter too much where the data is from, we could choose from a number of news websites, blog websites, or any other kind of website that hosts article style writings. My first idea was to use \"towardsdatascience\". A website that hosts a large collection of data-science related articles. Unfortunately, many of the articles on here require a subscription to view and as such it would be unethical to scrape and share this data here.\n",
    "\n",
    "With the above in mind the main considerations for choosing a data source is:\n",
    "* scraping, and sharing the content scraped should be allowed and fall within the websites terms and conditions.\n",
    "* There should be a large number of articles to scrape (the more the better!)\n",
    "* There should be a good variety of authors, (again, the more the better!)\n",
    "\n",
    "for this project we chose to use the BBC as our source of data. This is because the BBC allows webscraping on their website, on top of this they dont bottleneck or limit the amount of data that you can scrape. This means not only are we allowed to scrape the data, but we can do it very quickly. The BBC also clearly labels the author that wrote the article. Ontop of this, the BBC is the most viewed news source in the UK and so even though this project could be applied to a number of different websites, hopefully this one will be of particular use!\n",
    "\n"
   ]
  },
  {
   "cell_type": "markdown",
   "metadata": {
    "pycharm": {
     "name": "#%% md\n"
    }
   },
   "source": [
    "#### Webscraping the BBC\n",
    "\n",
    "I decided to split the web scraping portion of the project into 2 parts;\n",
    "1) **utilising selenium to navigate the dynamic part of the webpage.**\n",
    "The BBC has some dynamic elements that change the articles that can be viewed on a given page, this can be somewhat difficult to deal with in beautifulsoup or scrapy, here we use selenium, a package often used for website testing. Selenium is capable of automatically navigating a webpage, we use this feature to traverse the dynamic elements of the page and get all the relevant article links. Selenium, relative to some other web scraping packages is quite slow. This is why we only use it for the first part of our web scraping process.\n",
    "\n",
    "2) **utilise an asynchronous web scraper to scrape a large number of pages in short period of time**\n",
    "We expect to scrape several thousand articles, for this reason we decided to make use of the Scrapy package, a popular and dedicated web scraping package that has asynchronous coding capabilities, this means when supplied upfront with a collection of links (which are created in the selenium package) it can search through and scrape them much in a parallel manner which is much faster than other packages such as BeautifulSoup.\n"
   ]
  },
  {
   "cell_type": "markdown",
   "metadata": {
    "pycharm": {
     "name": "#%% md\n"
    }
   },
   "source": [
    "Note: The output from the selenium scraper is rather large so i decided to clear it for the sake of filesize. If you want to see how it runs feel free to run the below code chunk. I have changed the number of pages parameter to 2 (2 pages for each supplied link). It should take about 50 seconds. I suggest clearing the output after it is finished."
   ]
  },
  {
   "cell_type": "code",
   "execution_count": 2,
   "metadata": {
    "pycharm": {
     "name": "#%%\n"
    }
   },
   "outputs": [],
   "source": [
    "# selenium scraper\n",
    "def BBC_ArticleLink_Scraper(number_pages_to_scrape):\n",
    "    \"\"\" a Web scraper that gets article links from the BBC.\n",
    "    :param number_pages_to_scrape: int between 2-50. sets the number of pages to be scraped.\n",
    "    :return: creates a .txt file that contains all scraped links. This can the be fed into another web scraper.\n",
    "    \"\"\"\n",
    "\n",
    "    # we use webdriver-manager to install a ChromeDriver that is ready for use. \n",
    "    # This just means we dont have to deal with directing the webdriver to the file location of our drivers.\n",
    "    options = webdriver.ChromeOptions()\n",
    "    options.headless = True # set to False to visually see the browser-navigation\n",
    "    driver = webdriver.Chrome(ChromeDriverManager().install(),options=options)\n",
    "    links = [\"https://www.bbc.co.uk/news/coronavirus\",\n",
    "             \"https://www.bbc.co.uk/news/world-60525350\",\n",
    "             \"https://www.bbc.co.uk/news/uk\",\n",
    "             \"https://www.bbc.co.uk/news/world\",\n",
    "             \"https://www.bbc.co.uk/news/business\",\n",
    "             \"https://www.bbc.co.uk/news/politics\",\n",
    "             \"https://www.bbc.co.uk/news/technology\",\n",
    "             \"https://www.bbc.co.uk/news/science_and_environment\",\n",
    "             \"https://www.bbc.co.uk/news/education\",\n",
    "             \"https://www.bbc.co.uk/news/entertainment_and_arts\",\n",
    "             ]\n",
    "\n",
    "    for link in links:\n",
    "        print(f'Currently scraping: {link}.....')\n",
    "        driver.get(link)\n",
    "\n",
    "        number_pages_to_scrape = number_pages_to_scrape\n",
    "        for i in range(number_pages_to_scrape-1):\n",
    "            articles = driver.find_elements(by=By.XPATH,value=\"//a[contains(@class,'qa-heading-link lx-stream-post__header-link')]\") # get all articles on a given page\n",
    "            for article in articles:\n",
    "                article_link = article.get_attribute(\"href\") # get individual article links\n",
    "\n",
    "                with open ('article_links_test.txt','a') as f:  # write the links to a .txt file.\n",
    "                    f.write(f\"{article_link}\\n\")\n",
    "\n",
    "            try:\n",
    "                # if a next button exists, click it to generate the next set of article links.\n",
    "                next_button = driver.find_element(by=By.XPATH,value=\"//a[contains(@rel,'next')]\")\n",
    "                next_button.click()\n",
    "                # loading the next page can take a few seconds, \n",
    "                # we wait for 10 seconds to ensure the page has loaded before we move on to scrape it.\n",
    "                sleep(5)\n",
    "            except ValueError:\n",
    "                print(\"page not found\")\n",
    "                continue\n",
    "    driver.quit()\n",
    "# only using 2 pages for the sake of showcasing the code. this is to keep the file size to a minimum. \n",
    "# (webdrivers seem to output a lot of log data even after i added \"--log-level=3\" to the options)\n",
    "\n",
    "#BBC_ArticleLink_Scraper(2)"
   ]
  },
  {
   "cell_type": "code",
   "execution_count": 3,
   "metadata": {
    "pycharm": {
     "name": "#%%\n"
    }
   },
   "outputs": [],
   "source": [
    "# read in the article links scraped above for use in part 2 of the webscraping process.\n",
    "#with open(\"article_links_test.txt\", \"r\") as f:\n",
    " #content = f.read()\n",
    "\n",
    "#article_links = content.split(\"\\n\")"
   ]
  },
  {
   "cell_type": "code",
   "execution_count": 4,
   "metadata": {
    "pycharm": {
     "name": "#%%\n"
    }
   },
   "outputs": [
    {
     "name": "stderr",
     "output_type": "stream",
     "text": [
      "2022-08-25 21:46:06 [scrapy.utils.log] INFO: Scrapy 2.6.1 started (bot: scrapybot)\n",
      "2022-08-25 21:46:06 [scrapy.utils.log] INFO: Versions: lxml 4.8.0.0, libxml2 2.9.12, cssselect 1.1.0, parsel 1.6.0, w3lib 1.22.0, Twisted 22.2.0, Python 3.9.7 (tags/v3.9.7:1016ef3, Aug 30 2021, 20:19:38) [MSC v.1929 64 bit (AMD64)], pyOpenSSL 22.0.0 (OpenSSL 1.1.1n  15 Mar 2022), cryptography 36.0.2, Platform Windows-10-10.0.19043-SP0\n",
      "2022-08-25 21:46:06 [scrapy.crawler] INFO: Overridden settings:\n",
      "{}\n",
      "2022-08-25 21:46:06 [scrapy.utils.log] DEBUG: Using reactor: twisted.internet.selectreactor.SelectReactor\n",
      "2022-08-25 21:46:06 [scrapy.extensions.telnet] INFO: Telnet Password: b0e7be3bc0052a26\n",
      "2022-08-25 21:46:06 [scrapy.middleware] INFO: Enabled extensions:\n",
      "['scrapy.extensions.corestats.CoreStats',\n",
      " 'scrapy.extensions.telnet.TelnetConsole',\n",
      " 'scrapy.extensions.logstats.LogStats']\n",
      "2022-08-25 21:46:06 [scrapy.middleware] INFO: Enabled downloader middlewares:\n",
      "['scrapy.downloadermiddlewares.httpauth.HttpAuthMiddleware',\n",
      " 'scrapy.downloadermiddlewares.downloadtimeout.DownloadTimeoutMiddleware',\n",
      " 'scrapy.downloadermiddlewares.defaultheaders.DefaultHeadersMiddleware',\n",
      " 'scrapy.downloadermiddlewares.useragent.UserAgentMiddleware',\n",
      " 'scrapy.downloadermiddlewares.retry.RetryMiddleware',\n",
      " 'scrapy.downloadermiddlewares.redirect.MetaRefreshMiddleware',\n",
      " 'scrapy.downloadermiddlewares.httpcompression.HttpCompressionMiddleware',\n",
      " 'scrapy.downloadermiddlewares.redirect.RedirectMiddleware',\n",
      " 'scrapy.downloadermiddlewares.cookies.CookiesMiddleware',\n",
      " 'scrapy.downloadermiddlewares.httpproxy.HttpProxyMiddleware',\n",
      " 'scrapy.downloadermiddlewares.stats.DownloaderStats']\n",
      "2022-08-25 21:46:07 [scrapy.middleware] INFO: Enabled spider middlewares:\n",
      "['scrapy.spidermiddlewares.httperror.HttpErrorMiddleware',\n",
      " 'scrapy.spidermiddlewares.offsite.OffsiteMiddleware',\n",
      " 'scrapy.spidermiddlewares.referer.RefererMiddleware',\n",
      " 'scrapy.spidermiddlewares.urllength.UrlLengthMiddleware',\n",
      " 'scrapy.spidermiddlewares.depth.DepthMiddleware']\n",
      "2022-08-25 21:46:07 [scrapy.middleware] INFO: Enabled item pipelines:\n",
      "[]\n",
      "2022-08-25 21:46:07 [scrapy.core.engine] INFO: Spider opened\n",
      "2022-08-25 21:46:08 [scrapy.extensions.logstats] INFO: Crawled 0 pages (at 0 pages/min), scraped 0 items (at 0 items/min)\n",
      "2022-08-25 21:46:08 [scrapy.extensions.telnet] INFO: Telnet console listening on 127.0.0.1:6023\n"
     ]
    }
   ],
   "source": [
    "# Scrapy web scraper.\n",
    "class BBC_scraper(scrapy.Spider):\n",
    "    name = \"BBC scraper\"\n",
    "\n",
    "    def start_requests(self):\n",
    "\n",
    "        for url in article_links: # all_links from selenium scraper.\n",
    "            yield scrapy.Request(url=url,callback=self.article_parser)\n",
    "\n",
    "    def article_parser(self,response):\n",
    "        # below are all the elements we hope to find for each article.\n",
    "        author = response.xpath(\"//p[contains(@class,'ssrcss-ugte5s-Contributor e5xb54n2')]/span/strong/text()\").get()\n",
    "\n",
    "        # only scrape pages that have a listed author.\n",
    "        if author:\n",
    "\n",
    "            header = response.xpath(\"//h1[contains(@id,'main-heading')]/text()\").get()\n",
    "            category = response.xpath(\"//span[contains(@class,'ssrcss-19k053m-LinkTextContainer eis6szr1')]/text()\").get()\n",
    "\n",
    "            article_date = response.xpath(\"//time[contains(@data-testid,'timestamp')]//text()\").get()\n",
    "            link = response.url\n",
    "\n",
    "            text = response.xpath(\"//div[contains(@data-component,'text-block')]//text()\").getall()\n",
    "\n",
    "            article_item = { # using a dictionary to store data scraped from each page\n",
    "                \"header\":header,\n",
    "                \"category\":category,\n",
    "                \"author\":author,\n",
    "                \"article_date\":article_date,\n",
    "                \"link\":link,\n",
    "                \"text\":text,\n",
    "                \"date_scraped\": today\n",
    "            }\n",
    "            all_items.append(article_item)\n",
    "\n",
    "        else:\n",
    "            pass\n",
    "\n",
    "today = datetime.now()\n",
    "all_items =[] # empty list that we will append our article data to\n",
    "\n",
    "runner = CrawlerProcess()\n",
    "runner.crawl(BBC_scraper)\n",
    "# Scrapy works by initialising a twisted reactor, if one is already running the scraper fails. \n",
    "# To solve this we check if a reactor is already initialised, if it is we delete it.\n",
    "# NOTE: use of twisted is what gives scrapy its asynchronous capabilities !\n",
    "if \"twisted.internet.reactor\" in sys.modules:\n",
    "    del sys.modules[\"twisted.internet.reactor\"]\n",
    "#runner.start()\n",
    "\n",
    "\n"
   ]
  },
  {
   "cell_type": "code",
   "execution_count": 5,
   "metadata": {
    "pycharm": {
     "name": "#%%\n"
    }
   },
   "outputs": [],
   "source": [
    "# write the scarped data to a csv.\n",
    "\n",
    "# field_names = all_items[0].keys()\n",
    "\n",
    "# with open ('articles_test.csv','w', encoding='utf-8',newline='') as f:\n",
    "#    writer =csv.DictWriter(f,field_names)\n",
    "#    writer.writeheader()\n",
    "#    writer.writerows(all_items)\n"
   ]
  },
  {
   "cell_type": "markdown",
   "metadata": {},
   "source": [
    "### Exploratory Data Analysis And processing\n",
    "\n",
    "Here we explore the data and give an overview of it, we identify any issues that may have occurred from web scraping, and finally we process the data and get it ready for feature engineering."
   ]
  },
  {
   "cell_type": "code",
   "execution_count": 6,
   "metadata": {
    "pycharm": {
     "name": "#%%\n"
    }
   },
   "outputs": [
    {
     "data": {
      "text/html": [
       "<div>\n",
       "<style scoped>\n",
       "    .dataframe tbody tr th:only-of-type {\n",
       "        vertical-align: middle;\n",
       "    }\n",
       "\n",
       "    .dataframe tbody tr th {\n",
       "        vertical-align: top;\n",
       "    }\n",
       "\n",
       "    .dataframe thead th {\n",
       "        text-align: right;\n",
       "    }\n",
       "</style>\n",
       "<table border=\"1\" class=\"dataframe\">\n",
       "  <thead>\n",
       "    <tr style=\"text-align: right;\">\n",
       "      <th></th>\n",
       "      <th>header</th>\n",
       "      <th>category</th>\n",
       "      <th>author</th>\n",
       "      <th>article_date</th>\n",
       "      <th>link</th>\n",
       "      <th>text</th>\n",
       "      <th>date_scraped</th>\n",
       "    </tr>\n",
       "  </thead>\n",
       "  <tbody>\n",
       "    <tr>\n",
       "      <th>0</th>\n",
       "      <td>Sir Tom Jones: 'Honour' for Stereophonics to h...</td>\n",
       "      <td>Wales</td>\n",
       "      <td>By Peter Shuttleworth</td>\n",
       "      <td>1 day ago</td>\n",
       "      <td>https://www.bbc.co.uk/news/uk-wales-61823993</td>\n",
       "      <td>['Stereophonics star Kelly Jones has joked the...</td>\n",
       "      <td>2022-06-19 12:24:41.574271</td>\n",
       "    </tr>\n",
       "    <tr>\n",
       "      <th>1</th>\n",
       "      <td>Stereophonics and Sir Tom Jones Cardiff concer...</td>\n",
       "      <td>Wales</td>\n",
       "      <td>By Peter Shuttleworth</td>\n",
       "      <td>1 day ago</td>\n",
       "      <td>https://www.bbc.co.uk/news/uk-wales-61707518</td>\n",
       "      <td>['Music fans have been warned to plan ahead an...</td>\n",
       "      <td>2022-06-19 12:24:41.574271</td>\n",
       "    </tr>\n",
       "    <tr>\n",
       "      <th>2</th>\n",
       "      <td>Covid: Lockdown death prompts artist's show ab...</td>\n",
       "      <td>Wales</td>\n",
       "      <td>By Nicola Bryan</td>\n",
       "      <td>23 hours ago</td>\n",
       "      <td>https://www.bbc.co.uk/news/uk-wales-61825605</td>\n",
       "      <td>['An artist whose uncle died during lockdown h...</td>\n",
       "      <td>2022-06-19 12:24:41.574271</td>\n",
       "    </tr>\n",
       "    <tr>\n",
       "      <th>3</th>\n",
       "      <td>Covid-19 in the UK</td>\n",
       "      <td>UK</td>\n",
       "      <td>By The Visual and Data Journalism Teams</td>\n",
       "      <td>1 day ago</td>\n",
       "      <td>https://www.bbc.co.uk/news/uk-51768274</td>\n",
       "      <td>['Covid infections in the UK are up by more th...</td>\n",
       "      <td>2022-06-19 12:24:41.574271</td>\n",
       "    </tr>\n",
       "    <tr>\n",
       "      <th>4</th>\n",
       "      <td>Covid-19: Rise in infections in Wales accordin...</td>\n",
       "      <td>Wales</td>\n",
       "      <td>By Steve Duffy</td>\n",
       "      <td>1 day ago</td>\n",
       "      <td>https://www.bbc.co.uk/news/uk-wales-61842354</td>\n",
       "      <td>['Covid-19 infections in Wales have risen to t...</td>\n",
       "      <td>2022-06-19 12:24:41.574271</td>\n",
       "    </tr>\n",
       "  </tbody>\n",
       "</table>\n",
       "</div>"
      ],
      "text/plain": [
       "                                              header category  \\\n",
       "0  Sir Tom Jones: 'Honour' for Stereophonics to h...    Wales   \n",
       "1  Stereophonics and Sir Tom Jones Cardiff concer...    Wales   \n",
       "2  Covid: Lockdown death prompts artist's show ab...    Wales   \n",
       "3                                 Covid-19 in the UK       UK   \n",
       "4  Covid-19: Rise in infections in Wales accordin...    Wales   \n",
       "\n",
       "                                    author  article_date  \\\n",
       "0                    By Peter Shuttleworth     1 day ago   \n",
       "1                    By Peter Shuttleworth     1 day ago   \n",
       "2                          By Nicola Bryan  23 hours ago   \n",
       "3  By The Visual and Data Journalism Teams     1 day ago   \n",
       "4                           By Steve Duffy     1 day ago   \n",
       "\n",
       "                                           link  \\\n",
       "0  https://www.bbc.co.uk/news/uk-wales-61823993   \n",
       "1  https://www.bbc.co.uk/news/uk-wales-61707518   \n",
       "2  https://www.bbc.co.uk/news/uk-wales-61825605   \n",
       "3        https://www.bbc.co.uk/news/uk-51768274   \n",
       "4  https://www.bbc.co.uk/news/uk-wales-61842354   \n",
       "\n",
       "                                                text  \\\n",
       "0  ['Stereophonics star Kelly Jones has joked the...   \n",
       "1  ['Music fans have been warned to plan ahead an...   \n",
       "2  ['An artist whose uncle died during lockdown h...   \n",
       "3  ['Covid infections in the UK are up by more th...   \n",
       "4  ['Covid-19 infections in Wales have risen to t...   \n",
       "\n",
       "                 date_scraped  \n",
       "0  2022-06-19 12:24:41.574271  \n",
       "1  2022-06-19 12:24:41.574271  \n",
       "2  2022-06-19 12:24:41.574271  \n",
       "3  2022-06-19 12:24:41.574271  \n",
       "4  2022-06-19 12:24:41.574271  "
      ]
     },
     "execution_count": 6,
     "metadata": {},
     "output_type": "execute_result"
    }
   ],
   "source": [
    "# read in the full dataset that we previously scraped. (I.e the data scraped when the selenium scraper is set to 50 pages.)\n",
    "articles_data = pd.read_csv('articles2.csv',encoding='utf-8')\n",
    "articles_data.head()"
   ]
  },
  {
   "cell_type": "markdown",
   "metadata": {},
   "source": [
    "We start by looking at an overview of the data using the .describe() and .info() methods, this allows us to quickly see some common issues that could arise, for example possible duplicate records, Null counts and column data types. It also gives us a first glimpse at some potentially interesting information, for example most frequent occurrences in a given column."
   ]
  },
  {
   "cell_type": "code",
   "execution_count": 7,
   "metadata": {
    "pycharm": {
     "name": "#%%\n"
    }
   },
   "outputs": [
    {
     "data": {
      "text/html": [
       "<div>\n",
       "<style scoped>\n",
       "    .dataframe tbody tr th:only-of-type {\n",
       "        vertical-align: middle;\n",
       "    }\n",
       "\n",
       "    .dataframe tbody tr th {\n",
       "        vertical-align: top;\n",
       "    }\n",
       "\n",
       "    .dataframe thead th {\n",
       "        text-align: right;\n",
       "    }\n",
       "</style>\n",
       "<table border=\"1\" class=\"dataframe\">\n",
       "  <thead>\n",
       "    <tr style=\"text-align: right;\">\n",
       "      <th></th>\n",
       "      <th>header</th>\n",
       "      <th>category</th>\n",
       "      <th>author</th>\n",
       "      <th>article_date</th>\n",
       "      <th>link</th>\n",
       "      <th>text</th>\n",
       "      <th>date_scraped</th>\n",
       "    </tr>\n",
       "  </thead>\n",
       "  <tbody>\n",
       "    <tr>\n",
       "      <th>count</th>\n",
       "      <td>2448</td>\n",
       "      <td>2448</td>\n",
       "      <td>2448</td>\n",
       "      <td>2448</td>\n",
       "      <td>2448</td>\n",
       "      <td>2448</td>\n",
       "      <td>2448</td>\n",
       "    </tr>\n",
       "    <tr>\n",
       "      <th>unique</th>\n",
       "      <td>2448</td>\n",
       "      <td>20</td>\n",
       "      <td>929</td>\n",
       "      <td>194</td>\n",
       "      <td>2448</td>\n",
       "      <td>2448</td>\n",
       "      <td>1</td>\n",
       "    </tr>\n",
       "    <tr>\n",
       "      <th>top</th>\n",
       "      <td>Sir Tom Jones: 'Honour' for Stereophonics to h...</td>\n",
       "      <td>Business</td>\n",
       "      <td>By Robbie Meredith</td>\n",
       "      <td>3 days ago</td>\n",
       "      <td>https://www.bbc.co.uk/news/uk-wales-61823993</td>\n",
       "      <td>['Stereophonics star Kelly Jones has joked the...</td>\n",
       "      <td>2022-06-19 12:24:41.574271</td>\n",
       "    </tr>\n",
       "    <tr>\n",
       "      <th>freq</th>\n",
       "      <td>1</td>\n",
       "      <td>468</td>\n",
       "      <td>74</td>\n",
       "      <td>58</td>\n",
       "      <td>1</td>\n",
       "      <td>1</td>\n",
       "      <td>2448</td>\n",
       "    </tr>\n",
       "  </tbody>\n",
       "</table>\n",
       "</div>"
      ],
      "text/plain": [
       "                                                   header  category  \\\n",
       "count                                                2448      2448   \n",
       "unique                                               2448        20   \n",
       "top     Sir Tom Jones: 'Honour' for Stereophonics to h...  Business   \n",
       "freq                                                    1       468   \n",
       "\n",
       "                    author article_date  \\\n",
       "count                 2448         2448   \n",
       "unique                 929          194   \n",
       "top     By Robbie Meredith   3 days ago   \n",
       "freq                    74           58   \n",
       "\n",
       "                                                link  \\\n",
       "count                                           2448   \n",
       "unique                                          2448   \n",
       "top     https://www.bbc.co.uk/news/uk-wales-61823993   \n",
       "freq                                               1   \n",
       "\n",
       "                                                     text  \\\n",
       "count                                                2448   \n",
       "unique                                               2448   \n",
       "top     ['Stereophonics star Kelly Jones has joked the...   \n",
       "freq                                                    1   \n",
       "\n",
       "                      date_scraped  \n",
       "count                         2448  \n",
       "unique                           1  \n",
       "top     2022-06-19 12:24:41.574271  \n",
       "freq                          2448  "
      ]
     },
     "execution_count": 7,
     "metadata": {},
     "output_type": "execute_result"
    }
   ],
   "source": [
    "articles_data.describe()"
   ]
  },
  {
   "cell_type": "markdown",
   "metadata": {
    "pycharm": {
     "name": "#%% md\n"
    }
   },
   "source": [
    "As we can see there are 929 unique authors and 2448 unique articles, presumably a number of these authors will have written very few articles for the BBC and as such we will not have sufficient data for modelling purposes. We will exclude any author that appears as the main author fewer than 5 times.\n",
    "\n",
    "We also see that there are 20 unique categories. All headers and texts are unique which makes sense, Scrapy skips URLs that it has already visited so duplicates shouldn't be seen here.\n",
    "\n",
    "Seemingly the author column has some redundent information, for example above we can see the most frequent author is \"By Robbie Meredith\". We of course only want the name part."
   ]
  },
  {
   "cell_type": "code",
   "execution_count": 8,
   "metadata": {
    "pycharm": {
     "name": "#%%\n"
    }
   },
   "outputs": [
    {
     "name": "stdout",
     "output_type": "stream",
     "text": [
      "<class 'pandas.core.frame.DataFrame'>\n",
      "RangeIndex: 2448 entries, 0 to 2447\n",
      "Data columns (total 7 columns):\n",
      " #   Column        Non-Null Count  Dtype \n",
      "---  ------        --------------  ----- \n",
      " 0   header        2448 non-null   object\n",
      " 1   category      2448 non-null   object\n",
      " 2   author        2448 non-null   object\n",
      " 3   article_date  2448 non-null   object\n",
      " 4   link          2448 non-null   object\n",
      " 5   text          2448 non-null   object\n",
      " 6   date_scraped  2448 non-null   object\n",
      "dtypes: object(7)\n",
      "memory usage: 134.0+ KB\n"
     ]
    }
   ],
   "source": [
    "articles_data.info()"
   ]
  },
  {
   "cell_type": "markdown",
   "metadata": {
    "pycharm": {
     "name": "#%% md\n"
    }
   },
   "source": [
    "#### What did we learn?\n",
    "\n",
    "The info method showed us that there are no null values in the dataset. This shows that the web scraping was overall successful and all relevant elements were found for all pages!.\n",
    "\n",
    "All Columns have the data type of **object**. We could have potentially fixed this for some of the variables when importing the data but when web scraping I noticed some of the columns have a variety of data types in there so I thought it best to deal with this issue separately."
   ]
  },
  {
   "cell_type": "markdown",
   "metadata": {},
   "source": [
    "#### A deeper look into the Author column\n",
    "\n",
    "Now that we have a general overview of the data, we can start to solve some of the issues we identified. We will start with the author column."
   ]
  },
  {
   "cell_type": "markdown",
   "metadata": {},
   "source": [
    "#### Extracting the Main author from multi-author articles.\n",
    "\n",
    "if we look at the tail end of the authors, we can also see there are many cases where there are multiple listed authors. I couldn't find any reasoning behind the order of listed authors, so I am going to assume the author listed first can be considered as the \"main\" author and more than likely had the most impact in the style and content of the article. We will extract the first name only in these multi-name author lists."
   ]
  },
  {
   "cell_type": "code",
   "execution_count": 9,
   "metadata": {
    "pycharm": {
     "name": "#%%\n"
    }
   },
   "outputs": [],
   "source": [
    "# extract the characters that exist before the first instance of \"and\" or \"&\" or \",,\". \n",
    "regexes = [\"^.*?(?=\\ in)\", \"^.*?(?=\\,)\",\"^.*?(?=\\ and)\", \"^.*?(?=\\&)\"]\n",
    "fixed_names = []\n",
    "for i in range(0,len(articles_data[\"author\"])):\n",
    "    matches = []\n",
    "    for regex in regexes:\n",
    "        if matches:\n",
    "            pass\n",
    "        else:\n",
    "            try:\n",
    "                main_author = re.match(regex,articles_data[\"author\"][i]).group()\n",
    "                matches.append(main_author)\n",
    "\n",
    "            except:\n",
    "                main_author = articles_data[\"author\"][i]\n",
    "    fixed_names.append(main_author)\n",
    "\n",
    "articles_data[\"author_fixed\"] = fixed_names"
   ]
  },
  {
   "cell_type": "markdown",
   "metadata": {},
   "source": [
    "If we now take a look at the description of the author, and author_fixed columns we should notice a decrease in the number of unique authors. This is because we no longer have the complications of multi-author lists."
   ]
  },
  {
   "cell_type": "code",
   "execution_count": 10,
   "metadata": {
    "pycharm": {
     "name": "#%%\n"
    }
   },
   "outputs": [
    {
     "data": {
      "text/html": [
       "<div>\n",
       "<style scoped>\n",
       "    .dataframe tbody tr th:only-of-type {\n",
       "        vertical-align: middle;\n",
       "    }\n",
       "\n",
       "    .dataframe tbody tr th {\n",
       "        vertical-align: top;\n",
       "    }\n",
       "\n",
       "    .dataframe thead th {\n",
       "        text-align: right;\n",
       "    }\n",
       "</style>\n",
       "<table border=\"1\" class=\"dataframe\">\n",
       "  <thead>\n",
       "    <tr style=\"text-align: right;\">\n",
       "      <th></th>\n",
       "      <th>author</th>\n",
       "      <th>author_fixed</th>\n",
       "    </tr>\n",
       "  </thead>\n",
       "  <tbody>\n",
       "    <tr>\n",
       "      <th>count</th>\n",
       "      <td>2448</td>\n",
       "      <td>2448</td>\n",
       "    </tr>\n",
       "    <tr>\n",
       "      <th>unique</th>\n",
       "      <td>929</td>\n",
       "      <td>810</td>\n",
       "    </tr>\n",
       "    <tr>\n",
       "      <th>top</th>\n",
       "      <td>By Robbie Meredith</td>\n",
       "      <td>By Robbie Meredith</td>\n",
       "    </tr>\n",
       "    <tr>\n",
       "      <th>freq</th>\n",
       "      <td>74</td>\n",
       "      <td>74</td>\n",
       "    </tr>\n",
       "  </tbody>\n",
       "</table>\n",
       "</div>"
      ],
      "text/plain": [
       "                    author        author_fixed\n",
       "count                 2448                2448\n",
       "unique                 929                 810\n",
       "top     By Robbie Meredith  By Robbie Meredith\n",
       "freq                    74                  74"
      ]
     },
     "execution_count": 10,
     "metadata": {},
     "output_type": "execute_result"
    }
   ],
   "source": [
    "articles_data[[\"author\",\"author_fixed\"]].describe()"
   ]
  },
  {
   "cell_type": "code",
   "execution_count": 11,
   "metadata": {
    "pycharm": {
     "name": "#%%\n"
    }
   },
   "outputs": [],
   "source": [
    "# We no longer need the author column so we will drop that here. and rename author_fixed.\n",
    "\n",
    "articles_data.drop(\"author\",axis=1,inplace=True)\n",
    "articles_data.rename(columns={\"author_fixed\":\"author\"}, inplace=True)"
   ]
  },
  {
   "cell_type": "code",
   "execution_count": 12,
   "metadata": {
    "pycharm": {
     "name": "#%%\n"
    }
   },
   "outputs": [
    {
     "data": {
      "text/html": [
       "<div>\n",
       "<style scoped>\n",
       "    .dataframe tbody tr th:only-of-type {\n",
       "        vertical-align: middle;\n",
       "    }\n",
       "\n",
       "    .dataframe tbody tr th {\n",
       "        vertical-align: top;\n",
       "    }\n",
       "\n",
       "    .dataframe thead th {\n",
       "        text-align: right;\n",
       "    }\n",
       "</style>\n",
       "<table border=\"1\" class=\"dataframe\">\n",
       "  <thead>\n",
       "    <tr style=\"text-align: right;\">\n",
       "      <th></th>\n",
       "      <th>article_count</th>\n",
       "    </tr>\n",
       "    <tr>\n",
       "      <th>author</th>\n",
       "      <th></th>\n",
       "    </tr>\n",
       "  </thead>\n",
       "  <tbody>\n",
       "    <tr>\n",
       "      <th>By Robbie Meredith</th>\n",
       "      <td>74</td>\n",
       "    </tr>\n",
       "    <tr>\n",
       "      <th>By Kevin Peachey</th>\n",
       "      <td>58</td>\n",
       "    </tr>\n",
       "    <tr>\n",
       "      <th>By Mark Savage</th>\n",
       "      <td>47</td>\n",
       "    </tr>\n",
       "    <tr>\n",
       "      <th>By Jane Wakefield</th>\n",
       "      <td>36</td>\n",
       "    </tr>\n",
       "    <tr>\n",
       "      <th>By Michael Race</th>\n",
       "      <td>32</td>\n",
       "    </tr>\n",
       "    <tr>\n",
       "      <th>By John Campbell</th>\n",
       "      <td>27</td>\n",
       "    </tr>\n",
       "    <tr>\n",
       "      <th>By Joe Tidy</th>\n",
       "      <td>26</td>\n",
       "    </tr>\n",
       "    <tr>\n",
       "      <th>By Jennifer Harby</th>\n",
       "      <td>26</td>\n",
       "    </tr>\n",
       "    <tr>\n",
       "      <th>By Beth Timmins</th>\n",
       "      <td>26</td>\n",
       "    </tr>\n",
       "    <tr>\n",
       "      <th>By Annabelle  Liang</th>\n",
       "      <td>22</td>\n",
       "    </tr>\n",
       "  </tbody>\n",
       "</table>\n",
       "</div>"
      ],
      "text/plain": [
       "                     article_count\n",
       "author                            \n",
       "By Robbie Meredith              74\n",
       "By Kevin Peachey                58\n",
       "By Mark Savage                  47\n",
       "By Jane Wakefield               36\n",
       "By Michael Race                 32\n",
       "By John Campbell                27\n",
       "By Joe Tidy                     26\n",
       "By Jennifer Harby               26\n",
       "By Beth Timmins                 26\n",
       "By Annabelle  Liang             22"
      ]
     },
     "execution_count": 12,
     "metadata": {},
     "output_type": "execute_result"
    }
   ],
   "source": [
    "# lets take a look at the top 10 most frequent authors of the BBC over the last n days.\n",
    "unique_authors = articles_data.groupby(\"author\").agg(article_count = (\"author\",\"count\")).sort_values(\"article_count\", ascending=False)\n",
    "unique_authors.head(10)\n",
    "\n"
   ]
  },
  {
   "cell_type": "markdown",
   "metadata": {},
   "source": [
    "#### Sample size determination\n",
    "\n",
    "Of course, the goal of this project is to create a machine learning model that can predict the author who wrote a given article, to do that we must ensure there is a sufficent amount of data for training and validation. Ideally we want to find the best balance between complexity, and number of records in the dataset. I.e we want to ensure there is enough data to create a good model, but we dont want the data to be too simple. \n",
    "\n",
    "We think a good starting point is using authors who have 25 or more unique articles, this leaves us with 9 authors which creates a reasonably complex multinominal-classification problem."
   ]
  },
  {
   "cell_type": "code",
   "execution_count": 13,
   "metadata": {
    "pycharm": {
     "name": "#%%\n"
    }
   },
   "outputs": [
    {
     "name": "stdout",
     "output_type": "stream",
     "text": [
      "Number of authors with atleast 25 articles on the BBC: 9\n",
      "\n",
      "                    article_count\n",
      "author                           \n",
      "By Robbie Meredith             74\n",
      "By Kevin Peachey               58\n",
      "By Mark Savage                 47\n",
      "By Jane Wakefield              36\n",
      "By Michael Race                32\n",
      "By John Campbell               27\n",
      "By Joe Tidy                    26\n",
      "By Jennifer Harby              26\n",
      "By Beth Timmins                26\n"
     ]
    }
   ],
   "source": [
    "# lets filter out the authors who have less than 25 written articles.\n",
    "min_articles = 25\n",
    "top_authors = unique_authors.loc[unique_authors[\"article_count\"] >=min_articles]\n",
    "print(f\"Number of authors with atleast {min_articles} articles on the BBC: {len(top_authors)}\\n\\n\"\n",
    "      f\"{top_authors}\")\n"
   ]
  },
  {
   "cell_type": "markdown",
   "metadata": {},
   "source": [
    "Now we have all unique BBC authors that we want to use for our analysis. We will finish this section up by cleaning the column and removing anything that doesnt belong to the persons name."
   ]
  },
  {
   "cell_type": "code",
   "execution_count": 14,
   "metadata": {
    "pycharm": {
     "name": "#%%\n"
    }
   },
   "outputs": [
    {
     "name": "stdout",
     "output_type": "stream",
     "text": [
      "               author  article_count     author_clean\n",
      "0  By Robbie Meredith             74  Robbie Meredith\n",
      "1    By Kevin Peachey             58    Kevin Peachey\n",
      "2      By Mark Savage             47      Mark Savage\n",
      "3   By Jane Wakefield             36   Jane Wakefield\n",
      "4     By Michael Race             32     Michael Race\n",
      "5    By John Campbell             27    John Campbell\n",
      "6         By Joe Tidy             26         Joe Tidy\n",
      "7   By Jennifer Harby             26   Jennifer Harby\n",
      "8     By Beth Timmins             26     Beth Timmins\n"
     ]
    }
   ],
   "source": [
    "top_authors.reset_index(inplace=True)\n",
    "\n",
    "def clean_names(names):\n",
    "    '''removes un-wanted characters and white space.\n",
    "    \n",
    "    Parameters\n",
    "    ----------\n",
    "    \n",
    "    names: an array-like of shape (n_names)\n",
    "        An array that contains the names to be cleaned.\n",
    "    return \n",
    "    ----------\n",
    "    cleaned_names: list\n",
    "        a list with the cleaned names.\n",
    "    '''\n",
    "    cleaned_names = [x.replace(\"By\", \"\").strip() for x in names]\n",
    "    return cleaned_names\n",
    "\n",
    "\n",
    "top_authors[\"author_clean\"] = clean_names(top_authors[\"author\"])\n",
    "print(top_authors)"
   ]
  },
  {
   "cell_type": "code",
   "execution_count": 15,
   "metadata": {
    "pycharm": {
     "name": "#%%\n"
    }
   },
   "outputs": [],
   "source": [
    "# Finally, we use our top_author dataframe to filter our main dataset.\n",
    "\n",
    "top_authors.set_index(\"author\",inplace=True)\n",
    "\n",
    "articles_data[\"author\"] = articles_data[\"author\"].map(top_authors[\"author_clean\"])\n",
    "articles_to_drop = articles_data[articles_data[\"author\"].isnull()].index\n",
    "\n",
    "articles_data.drop(articles_to_drop,inplace=True)"
   ]
  },
  {
   "cell_type": "code",
   "execution_count": 16,
   "metadata": {
    "pycharm": {
     "name": "#%%\n"
    }
   },
   "outputs": [
    {
     "data": {
      "text/plain": [
       "36        Mark Savage\n",
       "66       Michael Race\n",
       "114    Jennifer Harby\n",
       "118    Jennifer Harby\n",
       "119       Mark Savage\n",
       "Name: author, dtype: object"
      ]
     },
     "execution_count": 16,
     "metadata": {},
     "output_type": "execute_result"
    }
   ],
   "source": [
    "articles_data[\"author\"].head()"
   ]
  },
  {
   "cell_type": "code",
   "execution_count": 17,
   "metadata": {
    "pycharm": {
     "name": "#%%\n"
    }
   },
   "outputs": [
    {
     "name": "stdout",
     "output_type": "stream",
     "text": [
      "<class 'pandas.core.frame.DataFrame'>\n",
      "Int64Index: 352 entries, 36 to 2444\n",
      "Data columns (total 7 columns):\n",
      " #   Column        Non-Null Count  Dtype \n",
      "---  ------        --------------  ----- \n",
      " 0   header        352 non-null    object\n",
      " 1   category      352 non-null    object\n",
      " 2   article_date  352 non-null    object\n",
      " 3   link          352 non-null    object\n",
      " 4   text          352 non-null    object\n",
      " 5   date_scraped  352 non-null    object\n",
      " 6   author        352 non-null    object\n",
      "dtypes: object(7)\n",
      "memory usage: 22.0+ KB\n"
     ]
    }
   ],
   "source": [
    "articles_data.info()"
   ]
  },
  {
   "cell_type": "markdown",
   "metadata": {},
   "source": [
    "#### Dealing with Data types and data inconsistencies.\n",
    "\n",
    "Next we will address the datatype issue we previously introduced. This is a quick and easy task where we simply need to convert variables data types to something more relevant that could potentially make future analysis easier. On top of this, we will also deal with any inconsistencies that occur in a few of the columns, namely the text and article_date columns.\n",
    "\n",
    "The key things to do are:\n",
    "\n",
    "* Convert header, category, author, and link columns to strings\n",
    "* Clean and process the date column so its all in a uniform format that can be converted to a date type.\n",
    "* Pre-processing of the text in preparation for analysis"
   ]
  },
  {
   "cell_type": "markdown",
   "metadata": {},
   "source": [
    "#### 1. Convert header, category, author, and link to strings"
   ]
  },
  {
   "cell_type": "code",
   "execution_count": 18,
   "metadata": {
    "pycharm": {
     "name": "#%%\n"
    }
   },
   "outputs": [
    {
     "name": "stdout",
     "output_type": "stream",
     "text": [
      "<class 'pandas.core.frame.DataFrame'>\n",
      "Int64Index: 352 entries, 36 to 2444\n",
      "Data columns (total 7 columns):\n",
      " #   Column        Non-Null Count  Dtype \n",
      "---  ------        --------------  ----- \n",
      " 0   header        352 non-null    string\n",
      " 1   category      352 non-null    string\n",
      " 2   article_date  352 non-null    object\n",
      " 3   link          352 non-null    string\n",
      " 4   text          352 non-null    object\n",
      " 5   date_scraped  352 non-null    object\n",
      " 6   author        352 non-null    string\n",
      "dtypes: object(3), string(4)\n",
      "memory usage: 22.0+ KB\n"
     ]
    }
   ],
   "source": [
    "cols_to_convert_str = [\"header\",\"category\",\"author\",\"link\"]\n",
    "\n",
    "for col in cols_to_convert_str:\n",
    "    articles_data[col] = articles_data[col].astype(\"string\")\n",
    "articles_data.info()"
   ]
  },
  {
   "cell_type": "markdown",
   "metadata": {},
   "source": [
    "#### 2. Clean and process the date column so its all in a uniform format that can be converted to a date type."
   ]
  },
  {
   "cell_type": "code",
   "execution_count": 19,
   "metadata": {
    "pycharm": {
     "name": "#%%\n"
    }
   },
   "outputs": [
    {
     "name": "stdout",
     "output_type": "stream",
     "text": [
      "..............first 5 articles dates......................\n",
      "36     1 June\n",
      "66     23 May\n",
      "114     7 May\n",
      "118     6 May\n",
      "119     6 May\n",
      "Name: article_date, dtype: object \n",
      "..............last 5 articles dates....................... \n",
      "2417     3 April\n",
      "2419     4 April\n",
      "2423     1 April\n",
      "2437    27 March\n",
      "2444    25 March\n",
      "Name: article_date, dtype: object\n"
     ]
    }
   ],
   "source": [
    "print(f\"..............first 5 articles dates......................\\n\"\n",
    "      f\"{articles_data['article_date'].head(5)} \\n\"\n",
    "      f\"..............last 5 articles dates....................... \\n\"\n",
    "      f\"{articles_data['article_date'].tail(5)}\")"
   ]
  },
  {
   "cell_type": "markdown",
   "metadata": {},
   "source": [
    "As shown above there are some key differences in how the \"dates\" data is presented. Recent articles are given as a time difference between the moment the article is viewed and when it was uploaded, and older articles are given simply as a date.\n",
    "\n",
    "To rectify this we will simply use the date the data was scraped and apply any time differences to it to get a date format.\n"
   ]
  },
  {
   "cell_type": "code",
   "execution_count": 20,
   "metadata": {
    "pycharm": {
     "name": "#%%\n"
    }
   },
   "outputs": [
    {
     "data": {
      "text/plain": [
       "36     2022-06-19 12:24:41.574271\n",
       "66     2022-06-19 12:24:41.574271\n",
       "114    2022-06-19 12:24:41.574271\n",
       "118    2022-06-19 12:24:41.574271\n",
       "119    2022-06-19 12:24:41.574271\n",
       "Name: date_scraped, dtype: object"
      ]
     },
     "execution_count": 20,
     "metadata": {},
     "output_type": "execute_result"
    }
   ],
   "source": [
    "articles_data[\"date_scraped\"].head()"
   ]
  },
  {
   "cell_type": "code",
   "execution_count": 21,
   "metadata": {
    "pycharm": {
     "name": "#%%\n"
    }
   },
   "outputs": [],
   "source": [
    "## convert date_scarped to datetime dtype.\n",
    "articles_data[\"date_scraped\"] =pd.to_datetime(articles_data[\"date_scraped\"],infer_datetime_format=True)"
   ]
  },
  {
   "cell_type": "code",
   "execution_count": 22,
   "metadata": {
    "pycharm": {
     "name": "#%%\n"
    }
   },
   "outputs": [],
   "source": [
    "def find_time_rows(word):\n",
    "    '''finds the index value of rows in a dataframe where a particular word occurs.\n",
    "    \n",
    "    Parameters\n",
    "    ----------\n",
    "    word: str\n",
    "        the word you are searching for\n",
    "    return \n",
    "    ----------\n",
    "    row_index: Pandas.Series\n",
    "        the index number of the rows that contained the word.\n",
    "    '''\n",
    "    row_index = articles_data[articles_data[\"article_date\"].str.find(word) >0].index\n",
    "    return row_index"
   ]
  },
  {
   "cell_type": "code",
   "execution_count": 23,
   "metadata": {
    "pycharm": {
     "name": "#%%\n"
    }
   },
   "outputs": [],
   "source": [
    "hour_rows = find_time_rows(\"hours\")\n",
    "days_rows = find_time_rows(\"days\")\n",
    "# use the index values found above to extract just the integer value from the relevant rows that contain hours \n",
    "# or days rather than a date.\n",
    "hours = [int(re.search(r'\\d+',x).group()) for x in articles_data.loc[hour_rows].article_date]\n",
    "\n",
    "days = [int(re.search(r'\\d+',x).group()) for x in articles_data.loc[days_rows].article_date]\n"
   ]
  },
  {
   "cell_type": "code",
   "execution_count": 24,
   "metadata": {
    "pycharm": {
     "name": "#%%\n"
    }
   },
   "outputs": [],
   "source": [
    "def times_to_dates(time_type):\n",
    "    '''takes times differences (hours or days) and converts them into a datetime. e.g if a row had \"24 hours ago\" \n",
    "    it would convert that row to a datetime that is one day prior to today().\n",
    "    \n",
    "    Parameters\n",
    "    ----------\n",
    "    time_type: str\n",
    "        the format of the time difference, either \"hour\" or \"day\".\n",
    "\n",
    "    '''\n",
    "    row_index = articles_data[articles_data[\"article_date\"].str.find(time_type) >0].index\n",
    "    row_values = [int(re.search(r'\\d+',x).group()) for x in articles_data.loc[row_index].article_date]\n",
    "    print(f\"{time_type} was found in: {len(row_index)} rows.\" )\n",
    "    try:\n",
    "        for i in range(0,len(row_index)):\n",
    "            index_val = row_index[i]\n",
    "            if time_type ==\"hour\":\n",
    "                articles_data.loc[index_val,\"article_date\"] = (articles_data.loc[index_val,\"date_scraped\"] - timedelta(hours=row_values[i])).date()\n",
    "            if time_type==\"day\":\n",
    "                articles_data.loc[index_val,\"article_date\"] = (articles_data.loc[index_val,\"date_scraped\"] - timedelta(days=row_values[i])).date()\n",
    "\n",
    "\n",
    "    except ValueError:\n",
    "        print(\"Unexpected time type. Choose hour or day.\")\n",
    "        pass\n"
   ]
  },
  {
   "cell_type": "code",
   "execution_count": 25,
   "metadata": {
    "pycharm": {
     "name": "#%%\n"
    }
   },
   "outputs": [
    {
     "name": "stdout",
     "output_type": "stream",
     "text": [
      "hour was found in: 0 rows.\n",
      "day was found in: 27 rows.\n"
     ]
    }
   ],
   "source": [
    "times_to_dates(\"hour\")\n",
    "times_to_dates(\"day\")\n"
   ]
  },
  {
   "cell_type": "code",
   "execution_count": 26,
   "metadata": {
    "pycharm": {
     "name": "#%%\n"
    }
   },
   "outputs": [],
   "source": [
    "# dates from this year dont have a year. we will just append on 2022.\n",
    "\n",
    "articles_data[\"article_date\"] = [x + \" 2022\" if isinstance(x,str) and re.search(\"\\d+$\",x) is None else x for x in articles_data[\"article_date\"]]\n",
    "\n"
   ]
  },
  {
   "cell_type": "code",
   "execution_count": 27,
   "metadata": {
    "pycharm": {
     "name": "#%%\n"
    }
   },
   "outputs": [],
   "source": [
    "# finally, get all dates in the same format.\n",
    "\n",
    "def parse_dates(dates):\n",
    "    '''ensures all datetimes are converted to dates, and the format is consistent.\n",
    "    \n",
    "    Parameters\n",
    "    ----------\n",
    "   \n",
    "    dates: An array-like of the shape (n_dates,)\n",
    "        an array containing the dates.\n",
    "    \n",
    "    return\n",
    "    ---------\n",
    "    [datetime.strptime(x,fmt) if isinstance(x,str) else x for x in dates ]: list\n",
    "        S list containing the same dates, but with a consistant date format.\n",
    "    '''\n",
    "    for fmt in (\"%d %B\", \"%d %B %Y\"):\n",
    "        try:\n",
    "            return [datetime.strptime(x,fmt) if isinstance(x,str) else x for x in dates ]\n",
    "        except ValueError:\n",
    "            pass\n",
    "    raise ValueError(\"Some dates were not in an expected format\")"
   ]
  },
  {
   "cell_type": "code",
   "execution_count": 28,
   "metadata": {
    "pycharm": {
     "name": "#%%\n"
    }
   },
   "outputs": [
    {
     "data": {
      "text/plain": [
       "36    2022-06-01\n",
       "66    2022-05-23\n",
       "114   2022-05-07\n",
       "118   2022-05-06\n",
       "119   2022-05-06\n",
       "161   2022-04-21\n",
       "182   2022-04-13\n",
       "243   2022-03-26\n",
       "246   2022-03-25\n",
       "256   2022-06-18\n",
       "320   2022-05-31\n",
       "412   2022-05-12\n",
       "439   2022-05-06\n",
       "460   2022-05-02\n",
       "522   2022-04-20\n",
       "Name: article_date, dtype: datetime64[ns]"
      ]
     },
     "execution_count": 28,
     "metadata": {},
     "output_type": "execute_result"
    }
   ],
   "source": [
    "articles_data[\"article_date\"] = parse_dates(articles_data[\"article_date\"])\n",
    "articles_data[\"article_date\"].head(15)"
   ]
  },
  {
   "cell_type": "markdown",
   "metadata": {},
   "source": [
    "Finally, let us once again check to makesure all fields are of the correct dtype."
   ]
  },
  {
   "cell_type": "code",
   "execution_count": 29,
   "metadata": {
    "pycharm": {
     "name": "#%%\n"
    }
   },
   "outputs": [
    {
     "name": "stdout",
     "output_type": "stream",
     "text": [
      "<class 'pandas.core.frame.DataFrame'>\n",
      "Int64Index: 352 entries, 36 to 2444\n",
      "Data columns (total 7 columns):\n",
      " #   Column        Non-Null Count  Dtype         \n",
      "---  ------        --------------  -----         \n",
      " 0   header        352 non-null    string        \n",
      " 1   category      352 non-null    string        \n",
      " 2   article_date  352 non-null    datetime64[ns]\n",
      " 3   link          352 non-null    string        \n",
      " 4   text          352 non-null    object        \n",
      " 5   date_scraped  352 non-null    datetime64[ns]\n",
      " 6   author        352 non-null    string        \n",
      "dtypes: datetime64[ns](2), object(1), string(4)\n",
      "memory usage: 30.1+ KB\n"
     ]
    }
   ],
   "source": [
    "articles_data.info()"
   ]
  },
  {
   "cell_type": "markdown",
   "metadata": {
    "pycharm": {
     "name": "#%% md\n"
    }
   },
   "source": [
    "#### 4. Pre-processing of the text in preparation for analysis.\n",
    "\n",
    "The final step is to prepare the text for NLP analysis.Here we will:\n",
    "\n",
    "* tokenize the text, keeping track of what words are in which sentence. This is so we can utilise sentence structure for our future analysis. It also creates a nice foundation for full work tokenization for bag-of-words based models such as LDA.\n",
    "* Remove stopwords\n",
    "* Remove punctuation\n",
    "* Identify bigrams such as \"machine learning\" and ensure these are accurately represented in the text\n",
    "* We will **not** lemmatize the text at this stage. Lemmatizing text could be said to normalise the text and remove personality from it. We will instead try to model the data without this limitation, if however, models perform poorly lemmatization may end up as a much needed step."
   ]
  },
  {
   "cell_type": "code",
   "execution_count": 30,
   "metadata": {
    "pycharm": {
     "name": "#%%\n"
    }
   },
   "outputs": [],
   "source": [
    "def tokenize_text(text):\n",
    "    '''takes a series of text bodies and tokenizes them, first into sentences, and then to words. \n",
    "    It also takes some additional steps to remove stop words and punctuation.\n",
    "    Parameters\n",
    "    ----------\n",
    "    \n",
    "    text: An array-like of the shape (n_text_documents,)\n",
    "        An array that contains all the text to be tokenized.\n",
    "    return\n",
    "    ----------\n",
    "    \n",
    "    filtered_list: list\n",
    "        A list of lists that contains the tokenized words of each sentence in a body of text.\n",
    "    '''\n",
    "    filtered_list = []\n",
    "    english_stop_words = stopwords.words(\"english\")\n",
    "    english_stop_words.extend([\"said\",\"would\",\"could\",\"also\",\"get\",\"go\",\"like\",\"try\",\"part\",\"also\",\n",
    "                              \"it's\",\"that's\",\"might\",\"people\",\"year\",\"one\",\"says\"])\n",
    "\n",
    "    for i in text.index:\n",
    "\n",
    "        sent_tokens = sent_tokenize(text[i].lower())\n",
    "        removed_punctuation = [i.translate(str.maketrans('','',string.punctuation)) for i in sent_tokens]\n",
    "\n",
    "        word_tokens = [word_tokenize(i) for i in removed_punctuation]\n",
    "        filtered = [[word for word in sent if word not in english_stop_words and len(word) >3] for sent in word_tokens ]\n",
    "        filtered_list.append(filtered)\n",
    "    return  filtered_list"
   ]
  },
  {
   "cell_type": "code",
   "execution_count": 31,
   "metadata": {
    "pycharm": {
     "name": "#%%\n"
    }
   },
   "outputs": [],
   "source": [
    "#apply the tokenize_text function to our text data.\n",
    "articles_data[\"text_tokens\"] = tokenize_text(articles_data[\"text\"])"
   ]
  },
  {
   "cell_type": "markdown",
   "metadata": {},
   "source": [
    "now that the text is tokenized and punctuation is removed, we can apply a genism model to capture common multi-word phrases. For example, at the moment \"machine learning will be captured as, [\"machine\", \"learning\"]\n",
    "of course though we would want to capture this as machine-learning. This is where genism (Rehurek & Sojka, 2011) comes in."
   ]
  },
  {
   "cell_type": "code",
   "execution_count": 32,
   "metadata": {
    "pycharm": {
     "name": "#%%\n"
    }
   },
   "outputs": [
    {
     "name": "stderr",
     "output_type": "stream",
     "text": [
      "2022-08-25 21:46:12 [gensim.models.phrases] INFO: collecting all words and their counts\n",
      "2022-08-25 21:46:12 [gensim.models.phrases] INFO: PROGRESS: at sentence #0, processed 0 words and 0 word types\n",
      "2022-08-25 21:46:12 [gensim.models.phrases] INFO: PROGRESS: at sentence #10000, processed 102173 words and 91015 word types\n",
      "2022-08-25 21:46:12 [gensim.models.phrases] INFO: collected 97146 token types (unigram + bigrams) from a corpus of 108939 words and 10694 sentences\n",
      "2022-08-25 21:46:12 [gensim.models.phrases] INFO: merged Phrases<97146 vocab, min_count=15, threshold=10.0, max_vocab_size=40000000>\n",
      "2022-08-25 21:46:12 [gensim.utils] DEBUG: starting a new internal lifecycle event log for Phrases\n",
      "2022-08-25 21:46:12 [gensim.utils] INFO: Phrases lifecycle event {'msg': 'built Phrases<97146 vocab, min_count=15, threshold=10.0, max_vocab_size=40000000> in 0.17s', 'datetime': '2022-08-25T21:46:12.363520', 'gensim': '4.2.0', 'python': '3.9.7 (tags/v3.9.7:1016ef3, Aug 30 2021, 20:19:38) [MSC v.1929 64 bit (AMD64)]', 'platform': 'Windows-10-10.0.19043-SP0', 'event': 'created'}\n"
     ]
    }
   ],
   "source": [
    "\n",
    "def get_bigrams(articles):\n",
    "    '''searches through lists of word tokens to identify potential bigrams.\n",
    "    Parameters\n",
    "    ----------\n",
    "    articles: An array-like of the shape (n_records)\n",
    "        An array containing tokenized sentences\n",
    "    return \n",
    "    ----------\n",
    "    finished_text: list\n",
    "        A list of lists that contains tokenized sentences, and the tokenized words of those sentences. \n",
    "        with bigrams included.\n",
    "    '''\n",
    "\n",
    "    all_sentences = []\n",
    "\n",
    "    for article in articles:\n",
    "        all_sentences += article\n",
    "\n",
    "    bigram = Phrases(all_sentences,min_count=15)\n",
    "\n",
    "    finished_text = []\n",
    "    for article in articles:\n",
    "        bigram_sents = []\n",
    "        for sent in bigram[article]:\n",
    "            bigram_sents.append(sent)\n",
    "        finished_text.append(bigram_sents)\n",
    "    return finished_text\n",
    "\n",
    "\n",
    "articles_data[\"text_tokens\"] = get_bigrams(articles_data[\"text_tokens\"])"
   ]
  },
  {
   "cell_type": "markdown",
   "metadata": {
    "pycharm": {
     "name": "#%% md\n"
    }
   },
   "source": [
    "Next we group all article texts' together to get all words in all articles together. This will be  useful for TF-IDF calculations.\n",
    "\n",
    "here we will also create a list containing the lengths of each individual article. This will make up one of the features used for modeling later on. "
   ]
  },
  {
   "cell_type": "code",
   "execution_count": 33,
   "metadata": {
    "pycharm": {
     "name": "#%%\n"
    }
   },
   "outputs": [],
   "source": [
    "# store all words from all articles\n",
    "tokenized_corpus = []\n",
    "# store the length of each article.\n",
    "article_length = []\n",
    "\n",
    "for sent in articles_data[\"text_tokens\"]:\n",
    "    sentence_length = []\n",
    "    for text in sent: \n",
    "        sentence_length+=text\n",
    "        tokenized_corpus += text\n",
    "    article_length.append(len(sentence_length))"
   ]
  },
  {
   "cell_type": "code",
   "execution_count": 34,
   "metadata": {
    "pycharm": {
     "name": "#%%\n"
    }
   },
   "outputs": [
    {
     "data": {
      "image/png": "[encoded data removed]",
      "text/plain": [
       "<Figure size 432x288 with 1 Axes>"
      ]
     },
     "metadata": {
      "needs_background": "light"
     },
     "output_type": "display_data"
    }
   ],
   "source": [
    "# remove un-necessary logs\n",
    "logging.getLogger('matplotlib.font_manager').disabled = True\n",
    "fd = nltk.FreqDist(tokenized_corpus)\n",
    "fd.plot(25,cumulative=False)\n",
    "plt.show()"
   ]
  },
  {
   "cell_type": "markdown",
   "metadata": {},
   "source": [
    "#### The data is now in a good place to start feature engineering and then modelling. In part two of the project) we will:\n",
    "* use the text in its current form to create a number of features that encompass sentiment, term frequencies, language used, sentence structure, length of articles, and classified topics\n",
    "* use the above features to create a predictive model that can correctly identify authors\n",
    "* create a separate model that can identify similarity between authors and from that, generate author recommendations."
   ]
  },
  {
   "cell_type": "markdown",
   "metadata": {},
   "source": [
    "### Feature engineering and analysis\n",
    "\n"
   ]
  },
  {
   "cell_type": "markdown",
   "metadata": {
    "pycharm": {
     "name": "#%% md\n"
    }
   },
   "source": [
    "Here we will create a number of features that will be used to better model our data. We will start with article length \n",
    "which we already defined earlier. We simply need to assign it to a column in our dataframe."
   ]
  },
  {
   "cell_type": "code",
   "execution_count": 35,
   "metadata": {},
   "outputs": [],
   "source": [
    "articles_data[\"text_length\"] = article_length"
   ]
  },
  {
   "cell_type": "code",
   "execution_count": 36,
   "metadata": {},
   "outputs": [
    {
     "data": {
      "text/plain": [
       "count     352.000000\n",
       "mean      302.832386\n",
       "std       144.899013\n",
       "min        65.000000\n",
       "25%       199.750000\n",
       "50%       276.000000\n",
       "75%       378.500000\n",
       "max      1171.000000\n",
       "Name: text_length, dtype: float64"
      ]
     },
     "execution_count": 36,
     "metadata": {},
     "output_type": "execute_result"
    }
   ],
   "source": [
    "articles_data[\"text_length\"].describe()"
   ]
  },
  {
   "cell_type": "markdown",
   "metadata": {},
   "source": [
    "Clearly there is significant variation in article lengths, its possible that some authors prefer shorter articles, whilst others prefer longer or more detailed articles. "
   ]
  },
  {
   "cell_type": "code",
   "execution_count": 37,
   "metadata": {},
   "outputs": [
    {
     "data": {
      "text/html": [
       "<div>\n",
       "<style scoped>\n",
       "    .dataframe tbody tr th:only-of-type {\n",
       "        vertical-align: middle;\n",
       "    }\n",
       "\n",
       "    .dataframe tbody tr th {\n",
       "        vertical-align: top;\n",
       "    }\n",
       "\n",
       "    .dataframe thead th {\n",
       "        text-align: right;\n",
       "    }\n",
       "</style>\n",
       "<table border=\"1\" class=\"dataframe\">\n",
       "  <thead>\n",
       "    <tr style=\"text-align: right;\">\n",
       "      <th></th>\n",
       "      <th>header</th>\n",
       "      <th>category</th>\n",
       "      <th>article_date</th>\n",
       "      <th>link</th>\n",
       "      <th>text</th>\n",
       "      <th>date_scraped</th>\n",
       "      <th>author</th>\n",
       "      <th>text_tokens</th>\n",
       "      <th>text_length</th>\n",
       "    </tr>\n",
       "  </thead>\n",
       "  <tbody>\n",
       "    <tr>\n",
       "      <th>2417</th>\n",
       "      <td>19 facts about the 2022 Grammy Awards</td>\n",
       "      <td>Entertainment &amp; Arts</td>\n",
       "      <td>2022-04-03</td>\n",
       "      <td>https://www.bbc.co.uk/news/entertainment-arts-...</td>\n",
       "      <td>['The Grammy Awards are upon us once again, af...</td>\n",
       "      <td>2022-06-19 12:24:41.574271</td>\n",
       "      <td>Mark Savage</td>\n",
       "      <td>[[grammy, awards, upon, threemonth, delay, sur...</td>\n",
       "      <td>1171</td>\n",
       "    </tr>\n",
       "  </tbody>\n",
       "</table>\n",
       "</div>"
      ],
      "text/plain": [
       "                                     header              category  \\\n",
       "2417  19 facts about the 2022 Grammy Awards  Entertainment & Arts   \n",
       "\n",
       "     article_date                                               link  \\\n",
       "2417   2022-04-03  https://www.bbc.co.uk/news/entertainment-arts-...   \n",
       "\n",
       "                                                   text  \\\n",
       "2417  ['The Grammy Awards are upon us once again, af...   \n",
       "\n",
       "                   date_scraped       author  \\\n",
       "2417 2022-06-19 12:24:41.574271  Mark Savage   \n",
       "\n",
       "                                            text_tokens  text_length  \n",
       "2417  [[grammy, awards, upon, threemonth, delay, sur...         1171  "
      ]
     },
     "execution_count": 37,
     "metadata": {},
     "output_type": "execute_result"
    }
   ],
   "source": [
    "articles_data.loc[articles_data[\"text_length\"]==max(articles_data[\"text_length\"])]"
   ]
  },
  {
   "cell_type": "markdown",
   "metadata": {},
   "source": [
    "#### Train test splits\n",
    "\n",
    "Here we set up our train and test data. We will also need a validation set later but the algorithims we will be using automate the process of further splitting a training set into train/validation splits so we wont worry about it here.\n",
    "\n",
    "Here we makesure to stratify the train test split to ensure similar class distributions are seen in both sets of data. This is important since there is a reasonably large difference between the largest, and smallest group.\n",
    "\n",
    "We will also reset the index for both the train and test data, this isn't a needed step, but I think it makes the data more clear and easier to search through if needed."
   ]
  },
  {
   "cell_type": "code",
   "execution_count": 38,
   "metadata": {},
   "outputs": [],
   "source": [
    "X = articles_data.drop(\"author\",axis=1)\n",
    "y = articles_data[\"author\"]\n",
    "\n",
    "X_train, X_test, y_train, y_test = train_test_split(X, y, test_size=0.33, random_state=123,stratify=y)\n",
    "\n",
    "## reset index values for our train and test sets.\n",
    "def reset_index(df):\n",
    "    '''Simple function to reset the index of a pandas DataFrame, and drop the old index.\n",
    "    \n",
    "    Parameters\n",
    "    ----------\n",
    "    df: Pandas.DataFrame\n",
    "        The DataFrame to have its index reset.\n",
    "    '''\n",
    "    df.reset_index(drop=True,inplace=True)\n",
    "\n",
    "for df in [X_train, X_test, y_train, y_test]:\n",
    "    reset_index(df)\n",
    "    \n"
   ]
  },
  {
   "cell_type": "markdown",
   "metadata": {},
   "source": [
    "### TF-IDF as a feature for machine learning.\n"
   ]
  },
  {
   "cell_type": "code",
   "execution_count": 39,
   "metadata": {},
   "outputs": [],
   "source": [
    "# here we create out tf-idf feeatures. We will just use the 400 most common features for now, this is more to \n",
    "# save on recourses in later moddeling than anything else.\n",
    "# vectorizers words (i.e converts them to float values which represent how common each word is in an article \n",
    "# compared to the overall corpus. We could also make use of these features later for reccomending oher articles and \n",
    "#authors by using cosine similarity scores.)\n",
    "\n",
    "\n",
    "english_stop_words = stopwords.words(\"english\")\n",
    "english_stop_words.extend([\"said\",\"would\",\"could\",\"also\",\"get\",\"go\",\"like\",\"try\",\"part\",\"also\",\n",
    "                              \"it's\",\"that's\",\"might\",\"people\",\"year\",\"one\",\"being\",\"week\",\"another\",\"she\",\"he\"])\n",
    "\n",
    "# initalise the vectorizer, take into account unigrams and bigrams, use the same stopwords as is used for other features and\n",
    "# select the top 200 most common features.\n",
    "vectorizer = TfidfVectorizer(ngram_range=(1,2),\n",
    "                            stop_words=english_stop_words,\n",
    "                            max_features= 400)"
   ]
  },
  {
   "cell_type": "code",
   "execution_count": 40,
   "metadata": {},
   "outputs": [],
   "source": [
    "## apply the vectorizer to our text data. If we convert it to an array we should see it has the same number of rows \n",
    "# as our dataset with 200 columns (one for each of the 200 features.)\n",
    "\n",
    "# talk about converting from sparse matrix below to a dataframe (you can use the pandas.DataFrame.sparse.from_spmatrix\n",
    "# but we just do it manually as it makes it easier to name the columns)\n",
    "idf_train = vectorizer.fit_transform(X_train[\"text\"])\n",
    "idf_test = vectorizer.transform(X_test[\"text\"])\n",
    "\n",
    "array_of_feature_train = np.transpose(idf_train.toarray())\n",
    "array_of_feature_test = np.transpose(idf_test.toarray())\n",
    "\n",
    "\n",
    "def create_tfidf_df(feature_array):\n",
    "    '''Converts a sparse matrix of tfidf terms into a pandas DataFrame\n",
    "    \n",
    "    Parameters\n",
    "    ----------\n",
    "    \n",
    "    feature_array: a sparse-matrix of the shape (n_records,n_features)\n",
    "        The tf-idf values\n",
    "    \n",
    "    return\n",
    "    ---------\n",
    "    \n",
    "    pd.DataFrame(tfidf_dict): pandas.DataFrame\n",
    "        the tfidf features, in the form of a pandas DataFrame\n",
    "    '''\n",
    "    tfidf_dict = {}\n",
    "    for i in range(0,len(feature_array)):\n",
    "        tfidf_dict[f\"tfidf{i}\"] = feature_array[i]\n",
    "    return pd.DataFrame(tfidf_dict)\n",
    "\n",
    "\n",
    "tfidf_train =create_tfidf_df(array_of_feature_train)\n",
    "tfidf_test = create_tfidf_df(array_of_feature_test)\n",
    "\n",
    "X_train = pd.concat([X_train,tfidf_train],axis=1)\n",
    "X_test = pd.concat([X_test,tfidf_test],axis=1)"
   ]
  },
  {
   "cell_type": "markdown",
   "metadata": {},
   "source": [
    "### LDA features for header text data.\n",
    "\n",
    "Here we use the Latent Dirichlet Allocation(LDA) algorithim to split article headers into different grouped topics. The current column category is made up of very broad topics, the hope with LDA is to narrow down on more specific topic areas, for example; COVID, Ukraine/Russia war, English Goverment, Irish Goverment etc.\n",
    "\n",
    "First we must ensure the headers are all in a similar format, namely they are all lower cased, free of punctuation, and have no stop words. Luckily we can make use of the previously defined tokenize_text function for this."
   ]
  },
  {
   "cell_type": "code",
   "execution_count": 41,
   "metadata": {},
   "outputs": [
    {
     "name": "stderr",
     "output_type": "stream",
     "text": [
      "2022-08-25 21:46:13 [gensim.models.phrases] INFO: collecting all words and their counts\n",
      "2022-08-25 21:46:13 [gensim.models.phrases] INFO: PROGRESS: at sentence #0, processed 0 words and 0 word types\n",
      "2022-08-25 21:46:13 [gensim.models.phrases] INFO: collected 2144 token types (unigram + bigrams) from a corpus of 1448 words and 235 sentences\n",
      "2022-08-25 21:46:13 [gensim.models.phrases] INFO: merged Phrases<2144 vocab, min_count=15, threshold=10.0, max_vocab_size=40000000>\n",
      "2022-08-25 21:46:13 [gensim.utils] DEBUG: starting a new internal lifecycle event log for Phrases\n",
      "2022-08-25 21:46:13 [gensim.utils] INFO: Phrases lifecycle event {'msg': 'built Phrases<2144 vocab, min_count=15, threshold=10.0, max_vocab_size=40000000> in 0.02s', 'datetime': '2022-08-25T21:46:13.767617', 'gensim': '4.2.0', 'python': '3.9.7 (tags/v3.9.7:1016ef3, Aug 30 2021, 20:19:38) [MSC v.1929 64 bit (AMD64)]', 'platform': 'Windows-10-10.0.19043-SP0', 'event': 'created'}\n",
      "2022-08-25 21:46:13 [gensim.models.phrases] INFO: collecting all words and their counts\n",
      "2022-08-25 21:46:13 [gensim.models.phrases] INFO: PROGRESS: at sentence #0, processed 0 words and 0 word types\n",
      "2022-08-25 21:46:13 [gensim.models.phrases] INFO: collected 1110 token types (unigram + bigrams) from a corpus of 696 words and 117 sentences\n",
      "2022-08-25 21:46:13 [gensim.models.phrases] INFO: merged Phrases<1110 vocab, min_count=15, threshold=10.0, max_vocab_size=40000000>\n",
      "2022-08-25 21:46:13 [gensim.utils] DEBUG: starting a new internal lifecycle event log for Phrases\n",
      "2022-08-25 21:46:13 [gensim.utils] INFO: Phrases lifecycle event {'msg': 'built Phrases<1110 vocab, min_count=15, threshold=10.0, max_vocab_size=40000000> in 0.01s', 'datetime': '2022-08-25T21:46:13.778587', 'gensim': '4.2.0', 'python': '3.9.7 (tags/v3.9.7:1016ef3, Aug 30 2021, 20:19:38) [MSC v.1929 64 bit (AMD64)]', 'platform': 'Windows-10-10.0.19043-SP0', 'event': 'created'}\n"
     ]
    }
   ],
   "source": [
    "## pre-proccessing of the header-field\n",
    "\n",
    "# tokenize, remove punctuation, and remove stop words.\n",
    "X_train[\"header_tokens\"] = tokenize_text(X_train[\"header\"])\n",
    "X_test[\"header_tokens\"] = tokenize_text(X_test[\"header\"])\n",
    "# create bigrams if they exist\n",
    "X_train[\"header_tokens\"] = get_bigrams(X_train[\"header_tokens\"])\n",
    "X_test[\"header_tokens\"] = get_bigrams(X_test[\"header_tokens\"])\n",
    "\n"
   ]
  },
  {
   "cell_type": "markdown",
   "metadata": {},
   "source": [
    "### Lemmitization of header text.\n",
    "\n",
    "Earlier we disscused the benefits and shortcomings of lemmitizing text, and decided lemmitization of the article body text should be avoided unless absolutly needed. For the purpose of LDA and topic classification however, lemmitization will help create more well-defined groups."
   ]
  },
  {
   "cell_type": "code",
   "execution_count": 42,
   "metadata": {},
   "outputs": [],
   "source": [
    "## lemmitizing the header tokens.\n",
    "lemmatizer = WordNetLemmatizer()\n",
    "\n",
    "def header_lemmatizer(text,tagging = True):\n",
    "    ''' Takes Either a list of pandas series of text, and lemmatizers each sentence within each body of text. \n",
    "    Parameters\n",
    "    ----------\n",
    "    text: array-like of shape(n_text_documents)\n",
    "        The text to be lemmaztized \n",
    "    tagging: Boolean\n",
    "        If True POS tagging is used for lemmatization\n",
    "        (default: True)\n",
    "\n",
    "    \n",
    "    return\n",
    "    ---------\n",
    "    text_output: list\n",
    "        A list of lists that contain the lemmatized words from text.  \n",
    "    '''\n",
    "    # if text is of the wrong type, return a Type error.\n",
    "    if not isinstance(text,(list,pd.Series)):\n",
    "        raise TypeError(\"text must be either a list, or pandas series\")\n",
    "    \n",
    "    \n",
    "    text_output=[]\n",
    "    for sentences in text:\n",
    "        sentence_output=[]\n",
    "        for sentence in sentences:\n",
    "            if tagging:\n",
    "                tagged_sentence = pos_tag(sentence)\n",
    "                tags_cleaned = [(word,tag[0].lower()) if tag[0] in (\"V\",\"A\",\"R\",\"S\") else (word,\"n\") for word,tag in tagged_sentence  ]\n",
    "                # add pos tag in the lemmatize method below\n",
    "                lemmatized_sentence = [lemmatizer.lemmatize(w,t) for w,t in tags_cleaned]\n",
    "            else:\n",
    "                lemmatized_sentence = [lemmatizer.lemmatize(w) for w in sentence]\n",
    "                \n",
    "            sentence_output+=lemmatized_sentence\n",
    "        text_output.append(sentence_output)\n",
    "    return text_output\n",
    "X_train[\"header_tokens\"] = header_lemmatizer(X_train[\"header_tokens\"])\n",
    "X_test[\"header_tokens\"] = header_lemmatizer(X_test[\"header_tokens\"])"
   ]
  },
  {
   "cell_type": "markdown",
   "metadata": {},
   "source": [
    "### Generating WordClouds from the cleaned text\n",
    "\n",
    "WordClouds allows us to visually see the most freqnet words in the data. This can give an indication as to how many topic groups we should be using for LDA, or even if creating meaningful topic groups is possible.\n",
    "\n",
    "Below we generate two WordClouds. The first using the header text, the second using the article body text. We can intuitvily see that using header data is much better for our LDA feature, the most common words are much more impactful and relate more to actual topics. The Wordcloud from the article text contains a signficant amount of \"filler\" text that would create confusion in LDA topic classification. \n",
    "\n",
    "Interestingly a few of our bi-grams have made it into the word cloud. For example \"ukraine_war\", \"boris_johnson\",\"northern_ireland\", and \"climate_change\"."
   ]
  },
  {
   "cell_type": "code",
   "execution_count": 43,
   "metadata": {},
   "outputs": [],
   "source": [
    "# First we create a single string that contains all header words.\n",
    "header_corpus = []\n",
    "\n",
    "for sent in X_train[\"header_tokens\"]:\n",
    "        header_corpus += sent\n",
    "  "
   ]
  },
  {
   "cell_type": "code",
   "execution_count": 44,
   "metadata": {},
   "outputs": [],
   "source": [
    "# function to create a wordcloud object when given a string.\n",
    "\n",
    "def generate_wordcloud(text):\n",
    "    '''Takes a Pandas.Series that contains tokenized text and creates a word-cloud.\n",
    "    \n",
    "    Parameters\n",
    "    ----------\n",
    "    \n",
    "    text: pandas.Series\n",
    "        The Series that contain the tokenized text to be used for the wordcloud.\n",
    "        \n",
    "        \n",
    "    return\n",
    "    ----------\n",
    "    wordcloud.generate(joined_text): generated object\n",
    "        A generator that can be used to create the plot.\n",
    "    \n",
    "    '''\n",
    "    joined_text = \" \".join(text)\n",
    "    wordcloud = WordCloud(background_color=\"white\", max_words=5000, contour_width=3, contour_color='steelblue')\n",
    "    return wordcloud.generate(joined_text)\n",
    "\n"
   ]
  },
  {
   "cell_type": "code",
   "execution_count": 45,
   "metadata": {},
   "outputs": [
    {
     "data": {
      "image/png": "[encoded data removed]",
      "text/plain": [
       "<Figure size 1296x1296 with 2 Axes>"
      ]
     },
     "metadata": {},
     "output_type": "display_data"
    }
   ],
   "source": [
    "\n",
    "#wordcloud from headers\n",
    "header_wordcloud = generate_wordcloud(header_corpus)\n",
    "#wordcloud for article bodies\n",
    "article_body_wordcloud = generate_wordcloud(tokenized_corpus)\n",
    "\n",
    "\n",
    "f, (ax1, ax2) = plt.subplots(1, 2,figsize=(18, 18))\n",
    "ax1.imshow(header_wordcloud)\n",
    "ax1.set_title(\"Header words\")\n",
    "ax2.imshow(article_body_wordcloud)\n",
    "ax2.set_title(\"Article body words\")\n",
    "plt.setp([ax1,ax2], xticks=[], yticks=[])\n",
    "\n",
    "plt.show()"
   ]
  },
  {
   "cell_type": "markdown",
   "metadata": {},
   "source": [
    "### Wordcloud results\n",
    "\n",
    "Clearly there are a number of distinct topics to be discovered in this group of headers. Especially surrounding school, covid, the ukraine/russia war, and energy/price of living costs.\n",
    "\n",
    "From here we will take a \"trial-and-error\" approach to LDA topic classifcaiton by altering paremeters until we have a reasonable number of topics that describe articles well."
   ]
  },
  {
   "cell_type": "markdown",
   "metadata": {},
   "source": [
    "### LDA model creation and analysis\n",
    "\n",
    "Similar to when we generated our tf-idf features, we first must vectorize the text. Here we have already removed stopwords and generated ngrams, so the only argument we need to define is the max_features."
   ]
  },
  {
   "cell_type": "code",
   "execution_count": 46,
   "metadata": {},
   "outputs": [],
   "source": [
    "X_train[\"header_LDA\"] = [\" \".join(header) for header in X_train[\"header_tokens\"] ]\n",
    "X_test[\"header_LDA\"] = [\" \".join(header) for header in X_test[\"header_tokens\"] ]"
   ]
  },
  {
   "cell_type": "code",
   "execution_count": 47,
   "metadata": {},
   "outputs": [
    {
     "data": {
      "text/plain": [
       "(117, 410)"
      ]
     },
     "execution_count": 47,
     "metadata": {},
     "output_type": "execute_result"
    }
   ],
   "source": [
    "X_test.shape"
   ]
  },
  {
   "cell_type": "code",
   "execution_count": 48,
   "metadata": {},
   "outputs": [],
   "source": [
    "def LDA_optimization(data):\n",
    "    '''For a given corpus, we identify the ideal number of features and topics to be used for LDA classification. The\n",
    "    metric used to determine the best parameters is; The average maximum value seen for each itteration.\n",
    "    The outcome of each test-itteration is printed in the form (n_features,n_topics), avg_maximum_value\n",
    "    \n",
    "    Parameters\n",
    "    ----------\n",
    "    \n",
    "    data: pandas.Series\n",
    "        The data to be used for generating LDA_features, and the data to be transformed.\n",
    "        \n",
    "    return\n",
    "    ---------\n",
    "    \n",
    "    LDA_dict: dict\n",
    "        The results of all itterations of the test.\n",
    "    \n",
    "    \n",
    "        \n",
    "    '''\n",
    "    # take a random sample from our dataset for use in optimization.\n",
    "    LDA_dict = {}\n",
    "    # itterate through a number of max_feature values (i)\n",
    "    for i in range(400,600,10):\n",
    "        vectorizer_headers = TfidfVectorizer(max_features=i)\n",
    "        LDA_features = vectorizer_headers.fit_transform((data.values))\n",
    "        # itterate through a number of number of topic values (j)\n",
    "        for j in range(4,12):\n",
    "            lda_model=LatentDirichletAllocation(n_components=j,\n",
    "            learning_method='batch',random_state=42,max_iter=10) \n",
    "            lda_top = lda_model.fit_transform(LDA_features)\n",
    "            # for each header, find the maximum LDA value (i.e the highest % chance it belongs to a particular group)\n",
    "            # and then average it to get an idea of how good a particular set of parameters were.\n",
    "            LDA_dict[(i,j)] = np.mean([max(x) for x in lda_top])\n",
    "            print(f\"{i,j} average maximum value: {LDA_dict[(i,j)]} \")\n",
    "    return LDA_dict\n",
    "            "
   ]
  },
  {
   "cell_type": "code",
   "execution_count": 49,
   "metadata": {
    "pycharm": {
     "is_executing": true
    }
   },
   "outputs": [
    {
     "name": "stdout",
     "output_type": "stream",
     "text": [
      "(400, 4) average maximum value: 0.7138075338450788 \n",
      "(400, 5) average maximum value: 0.7113620750955828 \n",
      "(400, 6) average maximum value: 0.699377013899855 \n",
      "(400, 7) average maximum value: 0.6969119307889519 \n",
      "(400, 8) average maximum value: 0.6906835362648963 \n",
      "(400, 9) average maximum value: 0.6843081650492255 \n",
      "(400, 10) average maximum value: 0.6801718003507212 \n",
      "(400, 11) average maximum value: 0.680932492015837 \n",
      "(410, 4) average maximum value: 0.7150648668599187 \n",
      "(410, 5) average maximum value: 0.7085120658095335 \n",
      "(410, 6) average maximum value: 0.7065342343511262 \n",
      "(410, 7) average maximum value: 0.6984938975412252 \n",
      "(410, 8) average maximum value: 0.6926588383042059 \n",
      "(410, 9) average maximum value: 0.6859641196442888 \n",
      "(410, 10) average maximum value: 0.6867244032902496 \n",
      "(410, 11) average maximum value: 0.6738276603216546 \n",
      "(420, 4) average maximum value: 0.7223184782179978 \n",
      "(420, 5) average maximum value: 0.7139929691444526 \n",
      "(420, 6) average maximum value: 0.7032858392547998 \n",
      "(420, 7) average maximum value: 0.7008510662927284 \n",
      "(420, 8) average maximum value: 0.6946393850907481 \n",
      "(420, 9) average maximum value: 0.6851543004538762 \n",
      "(420, 10) average maximum value: 0.6792353731097418 \n",
      "(420, 11) average maximum value: 0.679202213331164 \n",
      "(430, 4) average maximum value: 0.7244097854210859 \n",
      "(430, 5) average maximum value: 0.7126946067025037 \n",
      "(430, 6) average maximum value: 0.7078872710398254 \n",
      "(430, 7) average maximum value: 0.695355689079393 \n",
      "(430, 8) average maximum value: 0.6939995061809305 \n",
      "(430, 9) average maximum value: 0.6858123268933998 \n",
      "(430, 10) average maximum value: 0.6806502315260397 \n",
      "(430, 11) average maximum value: 0.6785656786430634 \n",
      "(440, 4) average maximum value: 0.7253245964552877 \n",
      "(440, 5) average maximum value: 0.7119659829234457 \n",
      "(440, 6) average maximum value: 0.709946863398331 \n",
      "(440, 7) average maximum value: 0.6978548223673893 \n",
      "(440, 8) average maximum value: 0.6945697378671781 \n",
      "(440, 9) average maximum value: 0.6925278871757481 \n",
      "(440, 10) average maximum value: 0.682272849906408 \n",
      "(440, 11) average maximum value: 0.6794781856276563 \n",
      "(450, 4) average maximum value: 0.7240001394502694 \n",
      "(450, 5) average maximum value: 0.717721034642286 \n",
      "(450, 6) average maximum value: 0.7113660748592231 \n",
      "(450, 7) average maximum value: 0.6981865326400762 \n",
      "(450, 8) average maximum value: 0.6952356996989941 \n",
      "(450, 9) average maximum value: 0.6934002973623208 \n",
      "(450, 10) average maximum value: 0.6901104367427877 \n",
      "(450, 11) average maximum value: 0.6840497849168099 \n",
      "(460, 4) average maximum value: 0.7257232961334044 \n",
      "(460, 5) average maximum value: 0.7219313008858613 \n",
      "(460, 6) average maximum value: 0.7104780998931438 \n",
      "(460, 7) average maximum value: 0.7062937922395591 \n",
      "(460, 8) average maximum value: 0.6953545811142358 \n",
      "(460, 9) average maximum value: 0.6922494367981727 \n",
      "(460, 10) average maximum value: 0.6879236510727695 \n",
      "(460, 11) average maximum value: 0.680051661544361 \n",
      "(470, 4) average maximum value: 0.7300150333583985 \n",
      "(470, 5) average maximum value: 0.7240888057438855 \n",
      "(470, 6) average maximum value: 0.7148908965246488 \n",
      "(470, 7) average maximum value: 0.7004717269764721 \n",
      "(470, 8) average maximum value: 0.7027261417249723 \n",
      "(470, 9) average maximum value: 0.6939171232892187 \n",
      "(470, 10) average maximum value: 0.6926769936796061 \n",
      "(470, 11) average maximum value: 0.6829962763353703 \n",
      "(480, 4) average maximum value: 0.7300155701694857 \n",
      "(480, 5) average maximum value: 0.7186231378085572 \n",
      "(480, 6) average maximum value: 0.7114577680094254 \n",
      "(480, 7) average maximum value: 0.7062683398048198 \n",
      "(480, 8) average maximum value: 0.6964270583444805 \n",
      "(480, 9) average maximum value: 0.6958988480910047 \n",
      "(480, 10) average maximum value: 0.69211494067506 \n",
      "(480, 11) average maximum value: 0.6885797711254593 \n",
      "(490, 4) average maximum value: 0.7320874087955972 \n",
      "(490, 5) average maximum value: 0.7215506932609234 \n",
      "(490, 6) average maximum value: 0.7186360113606903 \n",
      "(490, 7) average maximum value: 0.7067785580086094 \n",
      "(490, 8) average maximum value: 0.7037381828961821 \n",
      "(490, 9) average maximum value: 0.6953482015295767 \n",
      "(490, 10) average maximum value: 0.6949823731086727 \n",
      "(490, 11) average maximum value: 0.6921876312960864 \n",
      "(500, 4) average maximum value: 0.7286642761226587 \n",
      "(500, 5) average maximum value: 0.7228074647420661 \n",
      "(500, 6) average maximum value: 0.7171348127113507 \n",
      "(500, 7) average maximum value: 0.7091748659674169 \n",
      "(500, 8) average maximum value: 0.7051431358750624 \n",
      "(500, 9) average maximum value: 0.6939405074812274 \n",
      "(500, 10) average maximum value: 0.6913231309115884 \n",
      "(500, 11) average maximum value: 0.6865854529885422 \n",
      "(510, 4) average maximum value: 0.7352847087309773 \n",
      "(510, 5) average maximum value: 0.7234321060724225 \n",
      "(510, 6) average maximum value: 0.7207572665025543 \n",
      "(510, 7) average maximum value: 0.707184807686161 \n",
      "(510, 8) average maximum value: 0.6971141564681724 \n",
      "(510, 9) average maximum value: 0.6976204384879394 \n",
      "(510, 10) average maximum value: 0.6873343882572956 \n",
      "(510, 11) average maximum value: 0.6978538213453823 \n",
      "(520, 4) average maximum value: 0.7340910576317731 \n",
      "(520, 5) average maximum value: 0.7317041344048036 \n",
      "(520, 6) average maximum value: 0.7158059832779231 \n",
      "(520, 7) average maximum value: 0.7152981483011974 \n",
      "(520, 8) average maximum value: 0.7085099330487146 \n",
      "(520, 9) average maximum value: 0.7048498533019982 \n",
      "(520, 10) average maximum value: 0.6949963770309873 \n",
      "(520, 11) average maximum value: 0.6947651141923795 \n",
      "(530, 4) average maximum value: 0.7387155047694717 \n",
      "(530, 5) average maximum value: 0.730378285827141 \n",
      "(530, 6) average maximum value: 0.7218948248367187 \n",
      "(530, 7) average maximum value: 0.7112847904305316 \n",
      "(530, 8) average maximum value: 0.7108582389845198 \n",
      "(530, 9) average maximum value: 0.7021472492577485 \n",
      "(530, 10) average maximum value: 0.6963570543174208 \n",
      "(530, 11) average maximum value: 0.6950386700176642 \n",
      "(540, 4) average maximum value: 0.7397033417822148 \n",
      "(540, 5) average maximum value: 0.7273843432833281 \n",
      "(540, 6) average maximum value: 0.7244223319006234 \n",
      "(540, 7) average maximum value: 0.7125224985303771 \n",
      "(540, 8) average maximum value: 0.7090082808066946 \n",
      "(540, 9) average maximum value: 0.7028323857251754 \n",
      "(540, 10) average maximum value: 0.7004303524153322 \n",
      "(540, 11) average maximum value: 0.6871914906815737 \n",
      "(550, 4) average maximum value: 0.7433130213904016 \n",
      "(550, 5) average maximum value: 0.7359966439081934 \n",
      "(550, 6) average maximum value: 0.7242807315847631 \n",
      "(550, 7) average maximum value: 0.7164443343587932 \n",
      "(550, 8) average maximum value: 0.7153719830800973 \n",
      "(550, 9) average maximum value: 0.7019262202816731 \n",
      "(550, 10) average maximum value: 0.6983977048769973 \n",
      "(550, 11) average maximum value: 0.7000190731218785 \n",
      "(560, 4) average maximum value: 0.7432194696784041 \n",
      "(560, 5) average maximum value: 0.7277942581181571 \n",
      "(560, 6) average maximum value: 0.719857927965034 \n",
      "(560, 7) average maximum value: 0.715747758078947 \n",
      "(560, 8) average maximum value: 0.7146529422676676 \n",
      "(560, 9) average maximum value: 0.6999218076070177 \n",
      "(560, 10) average maximum value: 0.7067042181705122 \n",
      "(560, 11) average maximum value: 0.7049698997782406 \n",
      "(570, 4) average maximum value: 0.7467429588415923 \n",
      "(570, 5) average maximum value: 0.7325295378407275 \n",
      "(570, 6) average maximum value: 0.7220328899983876 \n",
      "(570, 7) average maximum value: 0.7155244691409364 \n",
      "(570, 8) average maximum value: 0.7075843703577624 \n",
      "(570, 9) average maximum value: 0.7097812792343644 \n",
      "(570, 10) average maximum value: 0.7071415324720042 \n",
      "(570, 11) average maximum value: 0.7006556066228163 \n",
      "(580, 4) average maximum value: 0.7421577341384871 \n",
      "(580, 5) average maximum value: 0.7351626711047924 \n",
      "(580, 6) average maximum value: 0.7206027111179227 \n",
      "(580, 7) average maximum value: 0.7143631606991075 \n",
      "(580, 8) average maximum value: 0.7137341662590297 \n",
      "(580, 9) average maximum value: 0.7102201708366109 \n",
      "(580, 10) average maximum value: 0.7091303320863788 \n",
      "(580, 11) average maximum value: 0.7057748331047223 \n",
      "(590, 4) average maximum value: 0.7440234479872845 \n",
      "(590, 5) average maximum value: 0.7373844585726409 \n",
      "(590, 6) average maximum value: 0.7269084169306141 \n",
      "(590, 7) average maximum value: 0.7200845858203537 \n",
      "(590, 8) average maximum value: 0.7139740873727032 \n",
      "(590, 9) average maximum value: 0.7129705848175885 \n"
     ]
    },
    {
     "name": "stdout",
     "output_type": "stream",
     "text": [
      "(590, 10) average maximum value: 0.7055298511416546 \n",
      "(590, 11) average maximum value: 0.7015072748371275 \n"
     ]
    }
   ],
   "source": [
    "LDA_values = LDA_optimization(X_train[\"header_LDA\"])"
   ]
  },
  {
   "cell_type": "code",
   "execution_count": 50,
   "metadata": {
    "pycharm": {
     "is_executing": true
    }
   },
   "outputs": [
    {
     "data": {
      "text/plain": [
       "(570, 4)"
      ]
     },
     "execution_count": 50,
     "metadata": {},
     "output_type": "execute_result"
    }
   ],
   "source": [
    "# check to see the best number of features and categories seen in our test.\n",
    "max(LDA_values, key=LDA_values.get)"
   ]
  },
  {
   "cell_type": "markdown",
   "metadata": {},
   "source": [
    "Our test suggests that for a corpus of our size, we should be aiming to use all feautres and relatively few categories."
   ]
  },
  {
   "cell_type": "code",
   "execution_count": 51,
   "metadata": {
    "pycharm": {
     "is_executing": true
    }
   },
   "outputs": [],
   "source": [
    "vectorizer_headers = TfidfVectorizer(max_features=520)\n",
    "\n",
    "LDA_features_train = vectorizer_headers.fit_transform((X_train[\"header_LDA\"].values))"
   ]
  },
  {
   "cell_type": "code",
   "execution_count": 52,
   "metadata": {
    "pycharm": {
     "is_executing": true
    }
   },
   "outputs": [],
   "source": [
    "lda_model=LatentDirichletAllocation(n_components=10,\n",
    "learning_method='batch',random_state=42,max_iter=10) \n",
    "lda_top_train=lda_model.fit_transform(LDA_features_train)"
   ]
  },
  {
   "cell_type": "code",
   "execution_count": 53,
   "metadata": {
    "pycharm": {
     "is_executing": true
    }
   },
   "outputs": [
    {
     "name": "stdout",
     "output_type": "stream",
     "text": [
      "Document 0: \n",
      "Topic  0 :  3.7030000306315176 %\n",
      "Topic  1 :  3.7027360100307027 %\n",
      "Topic  2 :  3.702736027874417 %\n",
      "Topic  3 :  3.703074256092189 %\n",
      "Topic  4 :  3.704593318225322 %\n",
      "Topic  5 :  3.70326428998221 %\n",
      "Topic  6 :  3.7031078543025924 %\n",
      "Topic  7 :  3.7028266532125613 %\n",
      "Topic  8 :  3.7027564964268094 %\n",
      "Topic  9 :  66.67190506322169 %\n"
     ]
    }
   ],
   "source": [
    "print(\"Document 0: \")\n",
    "for i,topic in enumerate(lda_top_train[0]):\n",
    "  print(\"Topic \",i,\": \",topic*100,\"%\")"
   ]
  },
  {
   "cell_type": "code",
   "execution_count": 54,
   "metadata": {
    "pycharm": {
     "is_executing": true
    }
   },
   "outputs": [
    {
     "name": "stdout",
     "output_type": "stream",
     "text": [
      "Topic 0: \n",
      "boost\n",
      "education\n",
      "firm\n",
      "school\n",
      "scheme\n",
      "bring\n",
      "doubt\n",
      "derbyshire\n",
      "since\n",
      "queen\n",
      "Topic 1: \n",
      "team\n",
      "messenger\n",
      "family\n",
      "ukraine\n",
      "face\n",
      "clothes\n",
      "keep\n",
      "boss\n",
      "russian\n",
      "arrest\n",
      "Topic 2: \n",
      "troll\n",
      "twitter\n",
      "test\n",
      "verge\n",
      "mouth\n",
      "vacuum\n",
      "russiaukraine\n",
      "internet\n",
      "police\n",
      "come\n",
      "Topic 3: \n",
      "price\n",
      "home\n",
      "energy\n",
      "bill\n",
      "rise\n",
      "branch\n",
      "rival\n",
      "supermarket\n",
      "church\n",
      "office\n",
      "Topic 4: \n",
      "ireland\n",
      "northern\n",
      "rise\n",
      "price\n",
      "million\n",
      "energy\n",
      "protocol\n",
      "shock\n",
      "warn\n",
      "reveal\n",
      "Topic 5: \n",
      "payment\n",
      "apple\n",
      "sigrid\n",
      "world\n",
      "prize\n",
      "credit\n",
      "rocky\n",
      "shoot\n",
      "urge\n",
      "brexit\n",
      "Topic 6: \n",
      "school\n",
      "board\n",
      "2022\n",
      "product\n",
      "woman\n",
      "bank\n",
      "money\n",
      "eurovision\n",
      "approach\n",
      "three\n",
      "Topic 7: \n",
      "bitcoin\n",
      "cost\n",
      "living\n",
      "diesel\n",
      "litre\n",
      "rise\n",
      "help\n",
      "record\n",
      "call\n",
      "payroll\n",
      "Topic 8: \n",
      "ukraine\n",
      "2022\n",
      "pupil\n",
      "supply\n",
      "action\n",
      "special\n",
      "eurovision\n",
      "first\n",
      "school\n",
      "russian\n",
      "Topic 9: \n",
      "energy\n",
      "face\n",
      "delay\n",
      "rise\n",
      "bill\n",
      "backlash\n",
      "apps\n",
      "school\n",
      "decade\n",
      "month\n"
     ]
    }
   ],
   "source": [
    "vocab = vectorizer_headers.get_feature_names_out()\n",
    "for i, comp in enumerate(lda_model.components_):\n",
    "     vocab_comp = zip(vocab, comp)\n",
    "     sorted_words = sorted(vocab_comp, key= lambda x:x[1], reverse=True)[:10]\n",
    "     print(\"Topic \"+str(i)+\": \")\n",
    "     for t in sorted_words:\n",
    "            print(t[0])\n",
    "            "
   ]
  },
  {
   "cell_type": "code",
   "execution_count": 55,
   "metadata": {
    "pycharm": {
     "is_executing": true
    }
   },
   "outputs": [],
   "source": [
    "## now that we have created our LDA model, we can apply it to the unseen test data.\n",
    "# we had an issue here where the number of featers we wanted to use (and choose to use in the train set was too big \n",
    "#for the test set. i.e we wanted to use 570 features but the test set legit only had 420... talk about this issue.)\n",
    "#use our vectorizer object to create LDA features.\n",
    "LDA_features_test = vectorizer_headers.fit_transform((X_test[\"header_LDA\"].values))\n",
    "\n",
    "## use our trained LDA model on the test data.\n",
    "\n",
    "LDA_top_test = lda_model.transform(LDA_features_test)\n"
   ]
  },
  {
   "cell_type": "code",
   "execution_count": 56,
   "metadata": {
    "pycharm": {
     "is_executing": true
    }
   },
   "outputs": [
    {
     "data": {
      "text/plain": [
       "(117, 10)"
      ]
     },
     "execution_count": 56,
     "metadata": {},
     "output_type": "execute_result"
    }
   ],
   "source": [
    "LDA_top_test.shape"
   ]
  },
  {
   "cell_type": "code",
   "execution_count": 57,
   "metadata": {
    "pycharm": {
     "is_executing": true
    }
   },
   "outputs": [],
   "source": [
    "## now we add our LDA features back onto the main datasets.\n",
    "\n",
    "def concat_LDA_features(LDA_array):\n",
    "    '''Takes a sparse matrix that contain LDA features and creates a pandas dataframe for easy merging.\n",
    "    \n",
    "    Parameters\n",
    "    ----------\n",
    "    LDA_array: array-like of shape (n_records,n_features)\n",
    "        The raw transformed output from NLTK's lda_model\n",
    "    \n",
    "    return\n",
    "    ------\n",
    "    pd.DataFrame(LDA_dict): Pandas.DataFrame\n",
    "        a dense, dataframe that contains the LDA_features defined by LDA_array.\n",
    "    \n",
    "    '''\n",
    "    LDA_dict = {}\n",
    "    # Currently the array's dimensions are wrong. transposing will fix this and allow us to generate a dictonar\n",
    "    LDA_array_transposed= np.transpose(LDA_array)\n",
    "    for i in range (0,len(LDA_array_transposed)):\n",
    "        LDA_dict[f\"LDA_feature{i}\"] = LDA_array_transposed[i]\n",
    "    return pd.DataFrame(LDA_dict)"
   ]
  },
  {
   "cell_type": "code",
   "execution_count": 58,
   "metadata": {
    "pycharm": {
     "is_executing": true
    }
   },
   "outputs": [],
   "source": [
    "# create a dataframe with our LDA features\n",
    "X_train_LDA_features = concat_LDA_features(lda_top_train)\n",
    "X_test_LDA_features = concat_LDA_features(LDA_top_test)\n",
    "\n",
    "# add our LDA features to the main dataset\n",
    "X_train = pd.concat([X_train,X_train_LDA_features],axis=1)\n",
    "X_test = pd.concat([X_test,X_test_LDA_features],axis=1)"
   ]
  },
  {
   "cell_type": "markdown",
   "metadata": {},
   "source": [
    "Train initial model to see where we are at."
   ]
  },
  {
   "cell_type": "code",
   "execution_count": 59,
   "metadata": {
    "pycharm": {
     "is_executing": true
    }
   },
   "outputs": [],
   "source": [
    "## remove fields we dont want2cat\n",
    "fields_to_drop = [\"header\",\"article_date\",\"link\",\"text\",\"date_scraped\",\"text_tokens\",\"header_tokens\",\"header_LDA\"]\n",
    "\n",
    "for df in [X_train,X_test]:\n",
    "    df.drop(fields_to_drop,axis=1,inplace=True)"
   ]
  },
  {
   "cell_type": "markdown",
   "metadata": {},
   "source": [
    "For the purposes of one hot encoding we will first group together the train and test data and then apply the algorithim. This ensures the same cateogires are present in both datasets. For example, If there is a rate occurance of a particular category it may only appear in one of the datasets which would cause issues since the train and test data would have a different number of features.\n",
    "\n",
    "Before appending the datasets together we will create a label-columns so we can keep track of which row of data belongs to which dataset."
   ]
  },
  {
   "cell_type": "code",
   "execution_count": 60,
   "metadata": {
    "pycharm": {
     "is_executing": true
    }
   },
   "outputs": [],
   "source": [
    "X_train[\"DataLabel\"] = 0\n",
    "X_test[\"DataLabel\"] = 1\n",
    "\n",
    "recombined_data = pd.concat([X_train,X_test])\n",
    "recombined_data.reset_index(inplace=True,drop=True)"
   ]
  },
  {
   "cell_type": "code",
   "execution_count": 61,
   "metadata": {
    "pycharm": {
     "is_executing": true
    }
   },
   "outputs": [
    {
     "data": {
      "text/html": [
       "<div>\n",
       "<style scoped>\n",
       "    .dataframe tbody tr th:only-of-type {\n",
       "        vertical-align: middle;\n",
       "    }\n",
       "\n",
       "    .dataframe tbody tr th {\n",
       "        vertical-align: top;\n",
       "    }\n",
       "\n",
       "    .dataframe thead th {\n",
       "        text-align: right;\n",
       "    }\n",
       "</style>\n",
       "<table border=\"1\" class=\"dataframe\">\n",
       "  <thead>\n",
       "    <tr style=\"text-align: right;\">\n",
       "      <th></th>\n",
       "      <th>category</th>\n",
       "      <th>text_length</th>\n",
       "      <th>tfidf0</th>\n",
       "      <th>tfidf1</th>\n",
       "      <th>tfidf2</th>\n",
       "      <th>tfidf3</th>\n",
       "      <th>tfidf4</th>\n",
       "      <th>tfidf5</th>\n",
       "      <th>tfidf6</th>\n",
       "      <th>tfidf7</th>\n",
       "      <th>...</th>\n",
       "      <th>LDA_feature1</th>\n",
       "      <th>LDA_feature2</th>\n",
       "      <th>LDA_feature3</th>\n",
       "      <th>LDA_feature4</th>\n",
       "      <th>LDA_feature5</th>\n",
       "      <th>LDA_feature6</th>\n",
       "      <th>LDA_feature7</th>\n",
       "      <th>LDA_feature8</th>\n",
       "      <th>LDA_feature9</th>\n",
       "      <th>DataLabel</th>\n",
       "    </tr>\n",
       "  </thead>\n",
       "  <tbody>\n",
       "    <tr>\n",
       "      <th>0</th>\n",
       "      <td>Business</td>\n",
       "      <td>279</td>\n",
       "      <td>0.029993</td>\n",
       "      <td>0.000000</td>\n",
       "      <td>0.000000</td>\n",
       "      <td>0.0</td>\n",
       "      <td>0.0</td>\n",
       "      <td>0.000000</td>\n",
       "      <td>0.000000</td>\n",
       "      <td>0.000000</td>\n",
       "      <td>...</td>\n",
       "      <td>0.037027</td>\n",
       "      <td>0.037027</td>\n",
       "      <td>0.037031</td>\n",
       "      <td>0.037046</td>\n",
       "      <td>0.037033</td>\n",
       "      <td>0.037031</td>\n",
       "      <td>0.037028</td>\n",
       "      <td>0.037028</td>\n",
       "      <td>0.666719</td>\n",
       "      <td>0</td>\n",
       "    </tr>\n",
       "    <tr>\n",
       "      <th>1</th>\n",
       "      <td>N. Ireland</td>\n",
       "      <td>110</td>\n",
       "      <td>0.000000</td>\n",
       "      <td>0.000000</td>\n",
       "      <td>0.000000</td>\n",
       "      <td>0.0</td>\n",
       "      <td>0.0</td>\n",
       "      <td>0.000000</td>\n",
       "      <td>0.000000</td>\n",
       "      <td>0.000000</td>\n",
       "      <td>...</td>\n",
       "      <td>0.031064</td>\n",
       "      <td>0.031063</td>\n",
       "      <td>0.031063</td>\n",
       "      <td>0.031065</td>\n",
       "      <td>0.031064</td>\n",
       "      <td>0.031063</td>\n",
       "      <td>0.031063</td>\n",
       "      <td>0.031064</td>\n",
       "      <td>0.720421</td>\n",
       "      <td>0</td>\n",
       "    </tr>\n",
       "    <tr>\n",
       "      <th>2</th>\n",
       "      <td>N. Ireland</td>\n",
       "      <td>188</td>\n",
       "      <td>0.000000</td>\n",
       "      <td>0.040152</td>\n",
       "      <td>0.000000</td>\n",
       "      <td>0.0</td>\n",
       "      <td>0.0</td>\n",
       "      <td>0.000000</td>\n",
       "      <td>0.052041</td>\n",
       "      <td>0.045144</td>\n",
       "      <td>...</td>\n",
       "      <td>0.027468</td>\n",
       "      <td>0.027464</td>\n",
       "      <td>0.027463</td>\n",
       "      <td>0.027462</td>\n",
       "      <td>0.027463</td>\n",
       "      <td>0.027466</td>\n",
       "      <td>0.027462</td>\n",
       "      <td>0.027471</td>\n",
       "      <td>0.027463</td>\n",
       "      <td>0</td>\n",
       "    </tr>\n",
       "    <tr>\n",
       "      <th>3</th>\n",
       "      <td>N. Ireland</td>\n",
       "      <td>344</td>\n",
       "      <td>0.031155</td>\n",
       "      <td>0.000000</td>\n",
       "      <td>0.000000</td>\n",
       "      <td>0.0</td>\n",
       "      <td>0.0</td>\n",
       "      <td>0.000000</td>\n",
       "      <td>0.000000</td>\n",
       "      <td>0.040591</td>\n",
       "      <td>...</td>\n",
       "      <td>0.031128</td>\n",
       "      <td>0.031128</td>\n",
       "      <td>0.031133</td>\n",
       "      <td>0.031128</td>\n",
       "      <td>0.031133</td>\n",
       "      <td>0.031132</td>\n",
       "      <td>0.031129</td>\n",
       "      <td>0.031130</td>\n",
       "      <td>0.031129</td>\n",
       "      <td>0</td>\n",
       "    </tr>\n",
       "    <tr>\n",
       "      <th>4</th>\n",
       "      <td>Business</td>\n",
       "      <td>422</td>\n",
       "      <td>0.000000</td>\n",
       "      <td>0.023397</td>\n",
       "      <td>0.000000</td>\n",
       "      <td>0.0</td>\n",
       "      <td>0.0</td>\n",
       "      <td>0.028011</td>\n",
       "      <td>0.000000</td>\n",
       "      <td>0.026307</td>\n",
       "      <td>...</td>\n",
       "      <td>0.030938</td>\n",
       "      <td>0.030938</td>\n",
       "      <td>0.030943</td>\n",
       "      <td>0.721548</td>\n",
       "      <td>0.030938</td>\n",
       "      <td>0.030938</td>\n",
       "      <td>0.030938</td>\n",
       "      <td>0.030940</td>\n",
       "      <td>0.030940</td>\n",
       "      <td>0</td>\n",
       "    </tr>\n",
       "    <tr>\n",
       "      <th>...</th>\n",
       "      <td>...</td>\n",
       "      <td>...</td>\n",
       "      <td>...</td>\n",
       "      <td>...</td>\n",
       "      <td>...</td>\n",
       "      <td>...</td>\n",
       "      <td>...</td>\n",
       "      <td>...</td>\n",
       "      <td>...</td>\n",
       "      <td>...</td>\n",
       "      <td>...</td>\n",
       "      <td>...</td>\n",
       "      <td>...</td>\n",
       "      <td>...</td>\n",
       "      <td>...</td>\n",
       "      <td>...</td>\n",
       "      <td>...</td>\n",
       "      <td>...</td>\n",
       "      <td>...</td>\n",
       "      <td>...</td>\n",
       "      <td>...</td>\n",
       "    </tr>\n",
       "    <tr>\n",
       "      <th>347</th>\n",
       "      <td>England</td>\n",
       "      <td>117</td>\n",
       "      <td>0.000000</td>\n",
       "      <td>0.138293</td>\n",
       "      <td>0.000000</td>\n",
       "      <td>0.0</td>\n",
       "      <td>0.0</td>\n",
       "      <td>0.000000</td>\n",
       "      <td>0.000000</td>\n",
       "      <td>0.000000</td>\n",
       "      <td>...</td>\n",
       "      <td>0.150138</td>\n",
       "      <td>0.027437</td>\n",
       "      <td>0.132121</td>\n",
       "      <td>0.027437</td>\n",
       "      <td>0.027437</td>\n",
       "      <td>0.027441</td>\n",
       "      <td>0.027437</td>\n",
       "      <td>0.180974</td>\n",
       "      <td>0.027437</td>\n",
       "      <td>1</td>\n",
       "    </tr>\n",
       "    <tr>\n",
       "      <th>348</th>\n",
       "      <td>N. Ireland</td>\n",
       "      <td>402</td>\n",
       "      <td>0.000000</td>\n",
       "      <td>0.000000</td>\n",
       "      <td>0.000000</td>\n",
       "      <td>0.0</td>\n",
       "      <td>0.0</td>\n",
       "      <td>0.000000</td>\n",
       "      <td>0.000000</td>\n",
       "      <td>0.000000</td>\n",
       "      <td>...</td>\n",
       "      <td>0.026127</td>\n",
       "      <td>0.119386</td>\n",
       "      <td>0.119147</td>\n",
       "      <td>0.178375</td>\n",
       "      <td>0.026127</td>\n",
       "      <td>0.298736</td>\n",
       "      <td>0.026127</td>\n",
       "      <td>0.026127</td>\n",
       "      <td>0.026128</td>\n",
       "      <td>1</td>\n",
       "    </tr>\n",
       "    <tr>\n",
       "      <th>349</th>\n",
       "      <td>Entertainment &amp; Arts</td>\n",
       "      <td>297</td>\n",
       "      <td>0.000000</td>\n",
       "      <td>0.000000</td>\n",
       "      <td>0.052541</td>\n",
       "      <td>0.0</td>\n",
       "      <td>0.0</td>\n",
       "      <td>0.000000</td>\n",
       "      <td>0.053037</td>\n",
       "      <td>0.046008</td>\n",
       "      <td>...</td>\n",
       "      <td>0.029026</td>\n",
       "      <td>0.029022</td>\n",
       "      <td>0.029045</td>\n",
       "      <td>0.029026</td>\n",
       "      <td>0.029028</td>\n",
       "      <td>0.029022</td>\n",
       "      <td>0.029023</td>\n",
       "      <td>0.029022</td>\n",
       "      <td>0.483129</td>\n",
       "      <td>1</td>\n",
       "    </tr>\n",
       "    <tr>\n",
       "      <th>350</th>\n",
       "      <td>Technology</td>\n",
       "      <td>98</td>\n",
       "      <td>0.000000</td>\n",
       "      <td>0.000000</td>\n",
       "      <td>0.000000</td>\n",
       "      <td>0.0</td>\n",
       "      <td>0.0</td>\n",
       "      <td>0.000000</td>\n",
       "      <td>0.000000</td>\n",
       "      <td>0.000000</td>\n",
       "      <td>...</td>\n",
       "      <td>0.029011</td>\n",
       "      <td>0.028990</td>\n",
       "      <td>0.265739</td>\n",
       "      <td>0.147297</td>\n",
       "      <td>0.265794</td>\n",
       "      <td>0.028997</td>\n",
       "      <td>0.028990</td>\n",
       "      <td>0.029004</td>\n",
       "      <td>0.147189</td>\n",
       "      <td>1</td>\n",
       "    </tr>\n",
       "    <tr>\n",
       "      <th>351</th>\n",
       "      <td>N. Ireland</td>\n",
       "      <td>260</td>\n",
       "      <td>0.000000</td>\n",
       "      <td>0.027313</td>\n",
       "      <td>0.000000</td>\n",
       "      <td>0.0</td>\n",
       "      <td>0.0</td>\n",
       "      <td>0.000000</td>\n",
       "      <td>0.000000</td>\n",
       "      <td>0.030709</td>\n",
       "      <td>...</td>\n",
       "      <td>0.155364</td>\n",
       "      <td>0.030976</td>\n",
       "      <td>0.030998</td>\n",
       "      <td>0.030976</td>\n",
       "      <td>0.030976</td>\n",
       "      <td>0.030985</td>\n",
       "      <td>0.314021</td>\n",
       "      <td>0.030984</td>\n",
       "      <td>0.182764</td>\n",
       "      <td>1</td>\n",
       "    </tr>\n",
       "  </tbody>\n",
       "</table>\n",
       "<p>352 rows × 413 columns</p>\n",
       "</div>"
      ],
      "text/plain": [
       "                 category  text_length    tfidf0    tfidf1    tfidf2  tfidf3  \\\n",
       "0                Business          279  0.029993  0.000000  0.000000     0.0   \n",
       "1              N. Ireland          110  0.000000  0.000000  0.000000     0.0   \n",
       "2              N. Ireland          188  0.000000  0.040152  0.000000     0.0   \n",
       "3              N. Ireland          344  0.031155  0.000000  0.000000     0.0   \n",
       "4                Business          422  0.000000  0.023397  0.000000     0.0   \n",
       "..                    ...          ...       ...       ...       ...     ...   \n",
       "347               England          117  0.000000  0.138293  0.000000     0.0   \n",
       "348            N. Ireland          402  0.000000  0.000000  0.000000     0.0   \n",
       "349  Entertainment & Arts          297  0.000000  0.000000  0.052541     0.0   \n",
       "350            Technology           98  0.000000  0.000000  0.000000     0.0   \n",
       "351            N. Ireland          260  0.000000  0.027313  0.000000     0.0   \n",
       "\n",
       "     tfidf4    tfidf5    tfidf6    tfidf7  ...  LDA_feature1  LDA_feature2  \\\n",
       "0       0.0  0.000000  0.000000  0.000000  ...      0.037027      0.037027   \n",
       "1       0.0  0.000000  0.000000  0.000000  ...      0.031064      0.031063   \n",
       "2       0.0  0.000000  0.052041  0.045144  ...      0.027468      0.027464   \n",
       "3       0.0  0.000000  0.000000  0.040591  ...      0.031128      0.031128   \n",
       "4       0.0  0.028011  0.000000  0.026307  ...      0.030938      0.030938   \n",
       "..      ...       ...       ...       ...  ...           ...           ...   \n",
       "347     0.0  0.000000  0.000000  0.000000  ...      0.150138      0.027437   \n",
       "348     0.0  0.000000  0.000000  0.000000  ...      0.026127      0.119386   \n",
       "349     0.0  0.000000  0.053037  0.046008  ...      0.029026      0.029022   \n",
       "350     0.0  0.000000  0.000000  0.000000  ...      0.029011      0.028990   \n",
       "351     0.0  0.000000  0.000000  0.030709  ...      0.155364      0.030976   \n",
       "\n",
       "     LDA_feature3  LDA_feature4  LDA_feature5  LDA_feature6  LDA_feature7  \\\n",
       "0        0.037031      0.037046      0.037033      0.037031      0.037028   \n",
       "1        0.031063      0.031065      0.031064      0.031063      0.031063   \n",
       "2        0.027463      0.027462      0.027463      0.027466      0.027462   \n",
       "3        0.031133      0.031128      0.031133      0.031132      0.031129   \n",
       "4        0.030943      0.721548      0.030938      0.030938      0.030938   \n",
       "..            ...           ...           ...           ...           ...   \n",
       "347      0.132121      0.027437      0.027437      0.027441      0.027437   \n",
       "348      0.119147      0.178375      0.026127      0.298736      0.026127   \n",
       "349      0.029045      0.029026      0.029028      0.029022      0.029023   \n",
       "350      0.265739      0.147297      0.265794      0.028997      0.028990   \n",
       "351      0.030998      0.030976      0.030976      0.030985      0.314021   \n",
       "\n",
       "     LDA_feature8  LDA_feature9  DataLabel  \n",
       "0        0.037028      0.666719          0  \n",
       "1        0.031064      0.720421          0  \n",
       "2        0.027471      0.027463          0  \n",
       "3        0.031130      0.031129          0  \n",
       "4        0.030940      0.030940          0  \n",
       "..            ...           ...        ...  \n",
       "347      0.180974      0.027437          1  \n",
       "348      0.026127      0.026128          1  \n",
       "349      0.029022      0.483129          1  \n",
       "350      0.029004      0.147189          1  \n",
       "351      0.030984      0.182764          1  \n",
       "\n",
       "[352 rows x 413 columns]"
      ]
     },
     "execution_count": 61,
     "metadata": {},
     "output_type": "execute_result"
    }
   ],
   "source": [
    "recombined_data"
   ]
  },
  {
   "cell_type": "code",
   "execution_count": 62,
   "metadata": {
    "pycharm": {
     "is_executing": true
    }
   },
   "outputs": [],
   "source": [
    "def OneHotEncoding(df,col_names,DropCol=False):\n",
    "    '''A simple function to apply sklearn's OneHotEncoder to any number of columns in a given dataframe.\n",
    "    \n",
    "    Parameters\n",
    "    ----------\n",
    "    \n",
    "    df: pandas.DataFrame\n",
    "        The dataframe that contain the columns to be encoded.\n",
    "    \n",
    "    col_names: array-like of shape (n_columns)\n",
    "        The columns within df that you wish to encode.\n",
    "    \n",
    "    DropCol: Boolean\n",
    "        If True, it drops the columns in col_names after applying OneHotEncoding.\n",
    "        (default: False).\n",
    "    \n",
    "    return\n",
    "    ------\n",
    "    \n",
    "    pd.concat([df,encoded_category],axis=1): pandas.DataFrame\n",
    "        A version of df that has the encoded categories. If DropCol is True it will not have the original columns\n",
    "        supplied in col_names.\n",
    "    '''\n",
    "    \n",
    "    # one hot encode the category variable\n",
    "    encoder = OneHotEncoder()\n",
    "    \n",
    "    # convert our categories variable to an array of shape (nsamples,nfeatures) which is the required format.\n",
    "    #categories = df[\"category\"].array.reshape(-1,1)\n",
    "    \n",
    "    # apply onehot encoding, and convert it to a dataframe.\n",
    "    for col in col_names:\n",
    "        encoded_category = pd.DataFrame(encoder.fit_transform(df[[col]]).toarray())\n",
    "    \n",
    "    # rename columns, and concatenate back onto the modelling dataset.\n",
    "        encoded_category.columns = [f\"cat{i}\" for i in (encoded_category)]\n",
    "        if DropCol:\n",
    "             df = df.drop([col],axis=1)\n",
    "    return pd.concat([df,encoded_category],axis=1)\n",
    "\n",
    "\n"
   ]
  },
  {
   "cell_type": "code",
   "execution_count": 63,
   "metadata": {
    "pycharm": {
     "is_executing": true
    }
   },
   "outputs": [],
   "source": [
    "recombined_data = OneHotEncoding(recombined_data,[\"category\"],True)\n",
    "# now we can split the data back into train and test.\n",
    "X_train = recombined_data.loc[recombined_data[\"DataLabel\"] ==0]\n",
    "X_test = recombined_data.loc[recombined_data[\"DataLabel\"] ==1]"
   ]
  },
  {
   "cell_type": "code",
   "execution_count": 64,
   "metadata": {
    "pycharm": {
     "is_executing": true
    }
   },
   "outputs": [],
   "source": [
    "# before we can being modelling we need to ensure all of our fields are of a numerical dtype i.e integers or floats.\n",
    "\n",
    "X_train[\"tfidf0\"].dtype == 'float64'\n",
    "\n",
    "\n",
    "def CheckNumerical(df):\n",
    "    '''A basic function that checks how many columns in a dataframe are of type int64, or float64. It outputs the number\n",
    "    of float, int, and the proportion of total columns that are numerical.\n",
    "    \n",
    "    Parameters\n",
    "    ----------\n",
    "    \n",
    "    df: pandas.DataFrame\n",
    "        The Dataframe to be checked.\n",
    "    '''\n",
    "    float_count = 0\n",
    "    int_count = 0\n",
    "\n",
    "    for col in df.columns:\n",
    "        if df[col].dtype =='float64':\n",
    "            float_count +=1\n",
    "        if df[col].dtype =='int64':\n",
    "            int_count +=1\n",
    "            \n",
    "    print(f\"There are: \\n \\\n",
    "            {float_count} fields with dtype float64 \\n\\n \\\n",
    "            there are {int_count} fields with dtype int64 \\n\\n \\\n",
    "            {(float_count + int_count)} / {len(df.columns)} are numerical.\")"
   ]
  },
  {
   "cell_type": "code",
   "execution_count": 65,
   "metadata": {
    "pycharm": {
     "is_executing": true
    }
   },
   "outputs": [
    {
     "name": "stdout",
     "output_type": "stream",
     "text": [
      "There are: \n",
      "             416 fields with dtype float64 \n",
      "\n",
      "             there are 2 fields with dtype int64 \n",
      "\n",
      "             418 / 418 are numerical.\n"
     ]
    }
   ],
   "source": [
    "CheckNumerical(X_train)"
   ]
  },
  {
   "cell_type": "code",
   "execution_count": 66,
   "metadata": {
    "pycharm": {
     "is_executing": true
    }
   },
   "outputs": [
    {
     "name": "stdout",
     "output_type": "stream",
     "text": [
      "There are: \n",
      "             416 fields with dtype float64 \n",
      "\n",
      "             there are 2 fields with dtype int64 \n",
      "\n",
      "             418 / 418 are numerical.\n"
     ]
    }
   ],
   "source": [
    "CheckNumerical(X_test)"
   ]
  },
  {
   "cell_type": "code",
   "execution_count": 67,
   "metadata": {
    "pycharm": {
     "is_executing": true
    }
   },
   "outputs": [],
   "source": [
    "# Naive Bayes Classifier for Multinomial data\n",
    "\n",
    "clf = MultinomialNB()\n",
    "clf.fit(X_train, y_train)\n",
    "\n",
    "y_pred = clf.predict(X_test)"
   ]
  },
  {
   "cell_type": "code",
   "execution_count": 68,
   "metadata": {
    "pycharm": {
     "is_executing": true
    }
   },
   "outputs": [
    {
     "name": "stdout",
     "output_type": "stream",
     "text": [
      "                 precision    recall  f1-score   support\n",
      "\n",
      "   Beth Timmins       1.00      0.00      0.00         9\n",
      " Jane Wakefield       0.75      0.25      0.38        12\n",
      " Jennifer Harby       1.00      0.00      0.00         9\n",
      "       Joe Tidy       1.00      0.00      0.00         9\n",
      "  John Campbell       1.00      0.00      0.00         9\n",
      "  Kevin Peachey       0.53      1.00      0.69        19\n",
      "    Mark Savage       0.34      1.00      0.51        15\n",
      "   Michael Race       1.00      0.00      0.00        11\n",
      "Robbie Meredith       0.73      1.00      0.84        24\n",
      "\n",
      "       accuracy                           0.52       117\n",
      "      macro avg       0.82      0.36      0.27       117\n",
      "   weighted avg       0.76      0.52      0.39       117\n",
      "\n"
     ]
    }
   ],
   "source": [
    "print(classification_report(y_test, y_pred,zero_division=1))"
   ]
  },
  {
   "cell_type": "markdown",
   "metadata": {},
   "source": [
    "### Initial test-model results\n",
    "\n",
    "As we can see, our inital test-model's performance is fairly poor. The overall model has an f1-score of just over 0.50, with many of the individual authors having an f1-score of 0. This suggests there could be a few issues with the model and data. The first major issue is one of data volume. Not only do we not have much total data, but the data which we do has is somewhat in-balanced (which can be seen in the above output, look at the differences in support). This is currently resulting in lots of our predictions falsy classifying an author as one of the more popular ones. There are a few potential solutions to this, first, we could try and **over-sample** the minority groups with the assumption that more even group distribtuions will help solve the issues surrounding precision. We could also ensure we are using stratified splitting and validation, This will ensure the distribituion of classes in the trian and test set is equal, which again will help with the above mentioned problem. \n",
    "\n",
    "### Understanding feature importance\n",
    "\n",
    "Before we move on to employing some of these techniques, we will take a quick look at feature importance. To check this we will create a simple randomforest classifier, which has the very useful feature of being able to visual how important any single feature is for the given model. Since we are just wanting a general overview we will not waste time with cross validating or optimising the model. \n",
    "\n",
    "\n"
   ]
  },
  {
   "cell_type": "code",
   "execution_count": 69,
   "metadata": {
    "pycharm": {
     "is_executing": true
    }
   },
   "outputs": [
    {
     "data": {
      "image/png": "[encoded data removed]",
      "text/plain": [
       "<Figure size 1080x432 with 2 Axes>"
      ]
     },
     "metadata": {
      "needs_background": "light"
     },
     "output_type": "display_data"
    }
   ],
   "source": [
    "# understanding feature importance\n",
    "\n",
    "rf_clf = RandomForestClassifier()\n",
    "\n",
    "rf_clf.fit(X_train,y_train)\n",
    "\n",
    "\n",
    "feature_names = list(X_train.columns)\n",
    "\n",
    "\n",
    "perm_results = permutation_importance(\n",
    "    rf_clf, X_test, y_test, n_repeats=5, random_state=123, n_jobs=4\n",
    ")\n",
    "\n",
    "perm_means = perm_results.importances_mean\n",
    "\n",
    "feature_importance = pd.Series(perm_means, index=feature_names)\n",
    "\n",
    "feature_importance_top20 = feature_importance.nlargest(20)\n",
    "\n",
    "fig, (ax1,ax2) = plt.subplots(1,2, figsize=(15,6))\n",
    "ax1.set_title(\"Feature importance by Permutation\")\n",
    "ax2.set_title(\"Feature importance by geni-loss \")\n",
    "\n",
    "\n",
    "\n",
    "feature_importance_top20.plot.bar(ax=ax1,edgecolor='black')\n",
    "\n",
    "# geni importance \n",
    "\n",
    "geni_results = rf_clf.feature_importances_\n",
    "\n",
    "feature_importance_geni = pd.Series(geni_results, index=feature_names)\n",
    "\n",
    "feature_importance_geni_top_20 = feature_importance_geni.nlargest(20)\n",
    "feature_importance_geni_top_20.plot.bar(ax=ax2,edgecolor='black')\n",
    "\n",
    "\n",
    "\n",
    "\n",
    "plt.show()"
   ]
  },
  {
   "cell_type": "markdown",
   "metadata": {},
   "source": [
    "From the simple random forest model above it is clear to see that the \"cat\" variables are fairly important features. This is probably due to the fact that we are only classifying a handful of authors and by chance, they are split somewhat fairly well between different categories.  \n",
    "\n",
    "Due to the limited number of authors, and the power of the category feature, we will remove it and build a model that doesnt require this information. The primary goal of this project is to develop a **generalizable** model that can predit which author wrote a piece of text, based on the text its self. Not some pre-established classification.\n",
    "\n",
    "The thing to note is that feature importance very rapidly drops off. This suggests there are a number of features that dont offer much to the overall model. Implementing PCA for dimension-reduction could be a good next."
   ]
  },
  {
   "cell_type": "code",
   "execution_count": 70,
   "metadata": {
    "pycharm": {
     "is_executing": true
    }
   },
   "outputs": [],
   "source": [
    "X_train_new = X_train.drop([\"cat0\",\"cat1\",\"cat2\",\"cat3\",\"cat4\",\"cat5\"],axis=1)\n",
    "X_test_new = X_test.drop([\"cat0\",\"cat1\",\"cat2\",\"cat3\",\"cat4\",\"cat5\"],axis=1)"
   ]
  },
  {
   "cell_type": "code",
   "execution_count": 71,
   "metadata": {
    "pycharm": {
     "is_executing": true
    }
   },
   "outputs": [
    {
     "name": "stdout",
     "output_type": "stream",
     "text": [
      "                 precision    recall  f1-score   support\n",
      "\n",
      "   Beth Timmins       1.00      0.00      0.00         9\n",
      " Jane Wakefield       1.00      0.08      0.15        12\n",
      " Jennifer Harby       1.00      0.00      0.00         9\n",
      "       Joe Tidy       1.00      0.00      0.00         9\n",
      "  John Campbell       1.00      0.00      0.00         9\n",
      "  Kevin Peachey       0.64      0.74      0.68        19\n",
      "    Mark Savage       0.23      1.00      0.38        15\n",
      "   Michael Race       1.00      0.00      0.00        11\n",
      "Robbie Meredith       0.83      1.00      0.91        24\n",
      "\n",
      "       accuracy                           0.46       117\n",
      "      macro avg       0.85      0.31      0.24       117\n",
      "   weighted avg       0.81      0.46      0.36       117\n",
      "\n"
     ]
    }
   ],
   "source": [
    "# lets train our Naievebayes model again on the new data that doesnt have the category features.\n",
    "clf2 = MultinomialNB()\n",
    "clf2.fit(X_train_new,y_train)\n",
    "\n",
    "ypred_clf2 = clf2.predict(X_test_new)\n",
    "\n",
    "clf2_report = classification_report(y_test,ypred_clf2,zero_division=1)\n",
    "\n",
    "print(clf2_report)\n"
   ]
  },
  {
   "cell_type": "markdown",
   "metadata": {},
   "source": [
    "We see an overall drop in accuracy by ~12% when removing the category features, but we believe it makes a more robust model that could be better applied to text outside of the BBC website.\n"
   ]
  },
  {
   "cell_type": "code",
   "execution_count": 72,
   "metadata": {
    "pycharm": {
     "is_executing": true
    }
   },
   "outputs": [
    {
     "name": "stdout",
     "output_type": "stream",
     "text": [
      "                 precision    recall  f1-score   support\n",
      "\n",
      "   Beth Timmins       0.40      0.22      0.29         9\n",
      " Jane Wakefield       0.90      0.75      0.82        12\n",
      " Jennifer Harby       1.00      1.00      1.00         9\n",
      "       Joe Tidy       0.88      0.78      0.82         9\n",
      "  John Campbell       1.00      0.89      0.94         9\n",
      "  Kevin Peachey       0.68      1.00      0.81        19\n",
      "    Mark Savage       1.00      1.00      1.00        15\n",
      "   Michael Race       0.67      0.55      0.60        11\n",
      "Robbie Meredith       0.96      1.00      0.98        24\n",
      "\n",
      "       accuracy                           0.85       117\n",
      "      macro avg       0.83      0.80      0.81       117\n",
      "   weighted avg       0.84      0.85      0.84       117\n",
      "\n"
     ]
    }
   ],
   "source": [
    "test_test = GradientBoostingClassifier(max_features=20,n_estimators=100)\n",
    "test_test.fit(X_train_new,y_train)\n",
    "test_results = test_test.predict(X_test_new)\n",
    "\n",
    "print(classification_report(y_test,test_results))"
   ]
  },
  {
   "cell_type": "markdown",
   "metadata": {},
   "source": [
    "### Dealing with imbalances in the data\n",
    "\n",
    "One major consideration that up to now has gone un-explored is the fact that the data is imbalanced. "
   ]
  },
  {
   "cell_type": "code",
   "execution_count": 73,
   "metadata": {
    "pycharm": {
     "is_executing": true
    }
   },
   "outputs": [
    {
     "data": {
      "image/png": "[encoded data removed]",
      "text/plain": [
       "<Figure size 360x360 with 1 Axes>"
      ]
     },
     "metadata": {
      "needs_background": "light"
     },
     "output_type": "display_data"
    }
   ],
   "source": [
    "# creat a plot to show the imbalance in the data\n",
    "\n",
    "# variables used for plotting \n",
    "author_counts = y_train.value_counts()\n",
    "max_author_count = author_counts.max()\n",
    "min_author_count = author_counts.min()\n",
    "author_count_range = max_author_count - min_author_count\n",
    "auth_counts_pct_dif = round((max_author_count - min_author_count )/min_author_count,1)*100\n",
    "author_mid_point = (max_author_count + min_author_count)/2\n",
    "number_authors = len(author_counts)-1\n",
    "\n",
    "\n",
    "fig, ax1 = plt.subplots(1,1,figsize=(5,5))\n",
    "fig.suptitle(\"Counts of Authors in our final dataset\")\n",
    "\n",
    "author_counts.plot.bar(ax=ax1,width=0.5,edgecolor='black',capsize=5)\n",
    "\n",
    "ax1.set_ylabel(\"Author count\")\n",
    "# arrows to show difference between min and max\n",
    "ax1.annotate(text='', xy=(number_authors,min_author_count), xytext=(number_authors,max_author_count), arrowprops=dict(arrowstyle='<->'),c=\"grey\")\n",
    "ax1.hlines(max_author_count,0,number_authors,linestyles=\"--\",colors=\"grey\")\n",
    "ax1.annotate(text=f\"+ {author_count_range} (+{auth_counts_pct_dif}%)\", xy=(number_authors,max_author_count), xytext=(number_authors-2.7,author_mid_point),c=\"black\")\n",
    "plt.show()"
   ]
  },
  {
   "cell_type": "markdown",
   "metadata": {},
   "source": [
    "### XGboost vs GBM \n",
    "\n",
    "\n",
    "Above we determined that gradient boost models are out-performing the Naieve Bayes model we produced, next we will create, optimise and validate two of the most powerful gradient boost models, namely XGboost and sklearn's implementation of a GBM.\n",
    "\n",
    "\n",
    "\n",
    "### hyperopt\n",
    "\n",
    "For parameter optimization we will be making use of the hyperopt package which provides an easy-to-use framework for hyperoptimization, it can be used on any model, including those found in sklearn's package and also XGboost. \n",
    "\n",
    "The order of operation for hyperopt optimzation is as follows:\n",
    "\n",
    "* You first must define a **parameter space** which is a dictonary that holds the paramter information, hyperopt provides some utilities for easy parameter expression, for example the *uniform* and *quniform* functions from *hyperopt.hp* can be used to generate uniformally distributed values that are either float values, or integers between two limits, which can be used for itterating through different values of a parameter that takes a numeric argument, *choice* can be used for a similar purpose but for string arguments. \n",
    "\n",
    "\n",
    "\n",
    "* Once a parameter space has been defined an **objective** function must be created, this is where the model its self is built, the only difference is; instead of defining parameters as absolute values, you make a call the paramater space dictonary and use the keys defined there. Any other calculations, or statistical tests that are wanting to be performed on each itteration of the model should also be included in the objective function. As an example, we will be performing k-fold cross validation on both of our models, and extracting cross_validation scores in the objective function. The objective function should return a dictonary that contains A) The loss function being used to determine the best set of parameters (In our case, its the mean cross validation score) and optionally the status, (hyperopt.STATUS_OK) which just provides a label that ensures only itterations there were succesful are used in the final results.\n",
    "\n",
    "* Finally, hyperopt.fmin can be called. This hyperopt function brings together the parameter space dictonary, the user-defined objective, and several other parametrs such as number of itterations, algorithim to be used for searching through the paramter space, and if trials should be used.\n",
    "\n",
    "NOTE: The use of trials allows the user to look at the results and inputs of individual itterations formulated by fmin.\n",
    "\n",
    "\n",
    "It is also worth mentioning that we will limit the maximum evaluations to 50 due to limitations in available CPU. If we were working with more simple models, or had access to more CPU we would almost certainly benefit from increasing this number.\n",
    "\n",
    "\n",
    "### Creating a fair comparison\n",
    "\n",
    "Both algorithims beings tested are tree-based and gradiant boosted. For this reason, many of the parameters being tested are the same. Where possible, these parameters are tested within the same range on each model. We are also using the same loss function for both (log loss) and weighted f1_scores to show validation performance. Both models will stop if 10 consecutive loss values are the same, this will help prevent over-fitting, and speed up run-time.\n",
    "\n",
    "Trial times will also be tested for both algorithims so we can get an understanding of both predictive performance, and resource cost.\n",
    "\n",
    "In general, tree based ensemble methods are fairly robust, as such, in general the more estimaters we can use the better. However, for the sake of run time we will limit the number of estimaters to 500. It is very likely that increasing it past this number will offer some small benefit to accuracy."
   ]
  },
  {
   "cell_type": "code",
   "execution_count": 74,
   "metadata": {
    "pycharm": {
     "is_executing": true
    }
   },
   "outputs": [],
   "source": [
    "## XGboost requires labels to be encoded.\n",
    "authors_encoded = {author:str(numb) for numb,author in enumerate(y_train.unique())}\n",
    "authors_encoded\n",
    "\n",
    "y_train_encoded = y_train.replace(authors_encoded).astype(int)\n",
    "y_test_encoded = y_test.replace(authors_encoded).astype(int)"
   ]
  },
  {
   "cell_type": "code",
   "execution_count": 75,
   "metadata": {
    "pycharm": {
     "is_executing": true
    }
   },
   "outputs": [],
   "source": [
    "#hyperopt.tpe produces some fairly irelevent log outputs, for this reason we will just remove them\n",
    "loggers_to_remove = [\n",
    "    \"hyperopt.tpe\"\n",
    "]\n",
    "for logger in loggers_to_remove:\n",
    "    logging.getLogger(logger).setLevel(logging.ERROR)"
   ]
  },
  {
   "cell_type": "markdown",
   "metadata": {},
   "source": [
    "### GBM parameters\n",
    "\n",
    "One of the benefits of GBMs is that they come with a huge variety of paramers which means there is alot of room for optimization. Here we give an brief explanation of all parameters used in our validation and optimisation process.\n",
    "\n",
    "* **Learning rate**: This parameter limits the significance of each individual tree, generally, a lower learing rate is better, but it requires the number of estimaters to be higher. Here we optimise it for 250 estimaters (as mentioned above).\n",
    "\n",
    "* **n_estimaters**: We are using an ensamble method, as such it is built up from a series of weaker-learners, here the estimaters are these weak learners. In general, the more we have the better. Here we are limited by our resources so it is kept at 500.\n",
    "\n",
    "* **subsample**: This is the sample of training data used on any given estimater, for example a subsample of 0.5 means, for each estimater half of the training data is chosen at random for the purpose of training that estimater. values lower than 1 help reduce variance in the model.\n",
    "\n",
    "* **min_samples_leaf**: This parameter ensures nodes are only split if sufficent data in a given subsample is present to support it. The higher the value is, the more data is required. essentially increasing the chance that the node being split is being done so for a good reason.\n",
    "\n",
    "* **max_depth**: This parameter controls how many levels any given tree(estimater) can have, For example, if you had a max_depth of 2 you would essentially have the adaboost algorithim where you only have stumps (root node and 2 leaf nodes). The higher this number is the better it is at capturing complex relationships, at the cost of potentially high bias or overfitting.\n",
    "\n",
    "* **max_features**: This parameter determines how many of the features in the dataset are actually used in any given estimater, a value of 1 means all features can be used. A lower value set here again increases bias and reduces variance, at the cost of potentially over-simplifying the model.\n",
    "\n",
    "* **n_iter_no_change**: The number of consectuive loss function values that must be the same (within 0.0001 although this can be changed with the **tol** parameter) for validation to end prematurely. This helps prevent over-fitting and also cuts down of run time. \n",
    "\n",
    "* **Validation_fraction**: The proportion of the overall training data to be used for validation."
   ]
  },
  {
   "cell_type": "code",
   "execution_count": 76,
   "metadata": {
    "pycharm": {
     "is_executing": true
    }
   },
   "outputs": [
    {
     "name": "stdout",
     "output_type": "stream",
     "text": [
      "Weighted f1_score: 0.3028 ± 0.0551                     \n",
      "Weighted f1_score: 0.6005 ± 0.0537                                                 \n",
      "Weighted f1_score: 0.7208 ± 0.0219                                                 \n",
      "Weighted f1_score: 0.7587 ± 0.0341                                                \n",
      "Weighted f1_score: 0.682 ± 0.0252                                                 \n",
      "Weighted f1_score: 0.3742 ± 0.0652                                                \n",
      "Weighted f1_score: 0.6009 ± 0.0465                                                \n",
      "Weighted f1_score: 0.7138 ± 0.0353                                                \n",
      "Weighted f1_score: 0.6939 ± 0.02                                                  \n",
      "Weighted f1_score: 0.2643 ± 0.0659                                                \n",
      "Weighted f1_score: 0.3382 ± 0.085                                                  \n",
      "Weighted f1_score: 0.4337 ± 0.0374                                                 \n",
      "Weighted f1_score: 0.7161 ± 0.0428                                                 \n",
      "Weighted f1_score: 0.7248 ± 0.0489                                                 \n",
      "Weighted f1_score: 0.7093 ± 0.0328                                                 \n",
      "Weighted f1_score: 0.6886 ± 0.038                                                  \n",
      "Weighted f1_score: 0.6611 ± 0.0303                                                 \n",
      "Weighted f1_score: 0.3582 ± 0.0954                                                 \n",
      "Weighted f1_score: 0.6769 ± 0.0619                                                 \n",
      "Weighted f1_score: 0.6253 ± 0.0008                                                 \n",
      "Weighted f1_score: 0.6731 ± 0.0097                                                 \n",
      "Weighted f1_score: 0.7312 ± 0.0188                                                 \n",
      "Weighted f1_score: 0.6978 ± 0.0332                                                 \n",
      "Weighted f1_score: 0.6934 ± 0.0154                                                 \n",
      "Weighted f1_score: 0.7584 ± 0.0201                                                 \n",
      "Weighted f1_score: 0.703 ± 0.0343                                                  \n",
      "Weighted f1_score: 0.6805 ± 0.0375                                                 \n",
      "Weighted f1_score: 0.7285 ± 0.0271                                                 \n",
      "Weighted f1_score: 0.7263 ± 0.0213                                                 \n",
      "Weighted f1_score: 0.6608 ± 0.0814                                                 \n",
      "Weighted f1_score: 0.7404 ± 0.0345                                                 \n",
      "Weighted f1_score: 0.7264 ± 0.0149                                                 \n",
      "Weighted f1_score: 0.6993 ± 0.027                                                  \n",
      "Weighted f1_score: 0.6975 ± 0.054                                                  \n",
      "Weighted f1_score: 0.7079 ± 0.0302                                                 \n",
      "Weighted f1_score: 0.6666 ± 0.0301                                                 \n",
      "Weighted f1_score: 0.5682 ± 0.1522                                                 \n",
      "Weighted f1_score: 0.755 ± 0.0411                                                  \n",
      "Weighted f1_score: 0.7338 ± 0.0117                                                 \n",
      "Weighted f1_score: 0.7517 ± 0.0127                                                 \n",
      "Weighted f1_score: 0.7311 ± 0.0175                                                 \n",
      "Weighted f1_score: 0.5114 ± 0.0425                                                 \n",
      "Weighted f1_score: 0.7317 ± 0.0256                                                 \n",
      "Weighted f1_score: 0.6984 ± 0.0507                                                 \n",
      "Weighted f1_score: 0.4967 ± 0.1399                                                 \n",
      "Weighted f1_score: 0.6703 ± 0.0551                                                 \n",
      "Weighted f1_score: 0.7402 ± 0.0584                                                 \n",
      "Weighted f1_score: 0.7058 ± 0.0434                                                 \n",
      "Weighted f1_score: 0.7221 ± 0.0336                                                 \n",
      "Weighted f1_score: 0.6807 ± 0.001                                                  \n",
      "Weighted f1_score: 0.3317 ± 0.0499                                                 \n",
      "Weighted f1_score: 0.7319 ± 0.0138                                                 \n",
      "Weighted f1_score: 0.6721 ± 0.0252                                                 \n",
      "Weighted f1_score: 0.6787 ± 0.0472                                                 \n",
      "Weighted f1_score: 0.4504 ± 0.1971                                                 \n",
      "Weighted f1_score: 0.7303 ± 0.0141                                                 \n",
      "Weighted f1_score: 0.7125 ± 0.0516                                                 \n",
      "Weighted f1_score: 0.7302 ± 0.0285                                                 \n",
      "Weighted f1_score: 0.462 ± 0.0651                                                  \n",
      "Weighted f1_score: 0.7106 ± 0.0289                                                 \n",
      "Weighted f1_score: 0.6759 ± 0.0083                                                 \n",
      "Weighted f1_score: 0.7449 ± 0.0091                                                 \n",
      "Weighted f1_score: 0.7396 ± 0.0232                                                 \n",
      "Weighted f1_score: 0.7042 ± 0.053                                                  \n",
      "Weighted f1_score: 0.688 ± 0.0416                                                  \n",
      "Weighted f1_score: 0.7272 ± 0.0215                                                 \n",
      "Weighted f1_score: 0.7698 ± 0.0171                                                 \n",
      "Weighted f1_score: 0.7167 ± 0.01                                                   \n",
      "Weighted f1_score: 0.7088 ± 0.0197                                                 \n",
      "Weighted f1_score: 0.7291 ± 0.0337                                                 \n",
      "Weighted f1_score: 0.732 ± 0.0429                                                  \n",
      "Weighted f1_score: 0.7143 ± 0.0506                                                 \n",
      "Weighted f1_score: 0.7506 ± 0.0234                                                 \n",
      "Weighted f1_score: 0.6946 ± 0.0393                                                 \n",
      "Weighted f1_score: 0.7214 ± 0.0456                                                 \n",
      "Weighted f1_score: 0.6035 ± 0.0967                                                 \n",
      "Weighted f1_score: 0.7313 ± 0.0392                                                 \n",
      "Weighted f1_score: 0.671 ± 0.0227                                                  \n",
      "Weighted f1_score: 0.5718 ± 0.0438                                                 \n",
      "Weighted f1_score: 0.7588 ± 0.0139                                                 \n",
      "Weighted f1_score: 0.7025 ± 0.0235                                                 \n",
      "Weighted f1_score: 0.7208 ± 0.0512                                                 \n",
      "Weighted f1_score: 0.7393 ± 0.0272                                                 \n",
      "Weighted f1_score: 0.6792 ± 0.0742                                                 \n",
      "Weighted f1_score: 0.7437 ± 0.0097                                                 \n",
      "Weighted f1_score: 0.7518 ± 0.0502                                                 \n",
      "Weighted f1_score: 0.749 ± 0.0299                                                  \n",
      "Weighted f1_score: 0.6298 ± 0.1295                                                 \n",
      "Weighted f1_score: 0.6403 ± 0.047                                                  \n",
      "Weighted f1_score: 0.761 ± 0.0071                                                  \n",
      "Weighted f1_score: 0.7851 ± 0.021                                                  \n",
      "Weighted f1_score: 0.7296 ± 0.0117                                                 \n",
      "Weighted f1_score: 0.746 ± 0.0108                                                  \n",
      "Weighted f1_score: 0.728 ± 0.0312                                                  \n",
      "Weighted f1_score: 0.7331 ± 0.0444                                                 \n",
      "Weighted f1_score: 0.7218 ± 0.012                                                  \n",
      "Weighted f1_score: 0.7112 ± 0.0243                                                 \n"
     ]
    },
    {
     "name": "stdout",
     "output_type": "stream",
     "text": [
      "Weighted f1_score: 0.7447 ± 0.0323                                                 \n",
      "Weighted f1_score: 0.7198 ± 0.0192                                                 \n",
      "Weighted f1_score: 0.7451 ± 0.0348                                                 \n",
      "100%|██████████| 100/100 [03:22<00:00,  2.03s/trial, best loss: -0.7850805731328275]\n"
     ]
    }
   ],
   "source": [
    "## sklearn GradientBoostingClassifier\n",
    "\n",
    "\n",
    "# defining our parameter space, this will feed into the objective function and essentially acts as our grid that contains\n",
    "# all relevent parameters.\n",
    "space = {\"learning_rate\": hp.uniform(\"learning_rate\",0,1),\n",
    "        \"n_estimators\":500,\n",
    "         \"subsample\":hp.uniform(\"subsample\",0.5,1),\n",
    "        \"min_samples_leaf\":hp.choice(\"min_samples_leaf\",np.arange(1,10+1,dtype=int)),\n",
    "        \"max_depth\": hp.choice(\"max_depth\",np.arange(3,18,dtype=int)),\n",
    "         \"max_features\":hp.uniform(\"max_features\",0.2,1),\n",
    "        \"random_state\":123,\n",
    "        \"n_iter_no_change\": 10,\n",
    "        \"validation_fraction\":0.25}\n",
    "         \n",
    "def objective(space):\n",
    "    '''A requirement for hyperopt's fmin function, its holds the estimater being tested as well as any scoring or loss\n",
    "    metrics that want to be captured.\n",
    "    \n",
    "    Parameters\n",
    "    ----------\n",
    "    \n",
    "    space: dict\n",
    "        A dictonary containing the parameters to be used and tested in in the objective model. values to be optimized \n",
    "        should be an itterable object that makes use of hyperopt.hp functions.\n",
    "    '''\n",
    "    \n",
    " \n",
    "    # GBM that takes its parameters directly from \"space\"\n",
    "    gbm_clf=GradientBoostingClassifier(\n",
    "                      learning_rate=space['learning_rate'],\n",
    "                      n_estimators =space['n_estimators'],\n",
    "                      subsample=space[\"subsample\"],\n",
    "                      max_depth = (space['max_depth']), \n",
    "                      min_samples_leaf=(space['min_samples_leaf']),\n",
    "                      max_features=(space['max_features']),\n",
    "                      validation_fraction = space[\"validation_fraction\"],\n",
    "                      n_iter_no_change = space[\"n_iter_no_change\"],\n",
    "                      verbose=True)\n",
    "    \n",
    "    # here we use a stratified kfold cv algorithim, this is due to the disparity in class distributions. by ensuring class \n",
    "    # distributions in our folds are startified we can hopefully get a more generalised model.\n",
    "    \n",
    "    results = cross_val_score(gbm_clf, X_train_new, y_train_encoded, cv=3,scoring=\"f1_weighted\",n_jobs=-1)\n",
    "\n",
    "    print (f\"Weighted f1_score: {round(results.mean(),4)} ± {round(results.std(),4)}\") \n",
    "    return {'loss': -results.mean(), 'status': STATUS_OK }\n",
    "\n",
    "\n",
    "trials = Trials()\n",
    "\n",
    "best_hyperparams_GBM = fmin(fn = objective,\n",
    "                        space = space,\n",
    "                        algo = tpe.suggest,\n",
    "                        max_evals = 100,\n",
    "                        trials = trials)\n",
    "\n",
    "final_GBM = GradientBoostingClassifier(**best_hyperparams_GBM)\n"
   ]
  },
  {
   "cell_type": "markdown",
   "metadata": {},
   "source": [
    "### XGboost parameters\n",
    "\n",
    "Due to the similarity between the two algorithims, many of the parameters used here are esentially identical to the GBM above, for this reason, where relevent I will simply refer to the parameters described above.\n",
    "\n",
    "* **max_depth**: This parameter is identical to the **max_depth** parameter from the above GBM\n",
    "* **gamma**: This describes a loss-value threshold that must be overcome at each node to allow further splits, a higher gamma value results in a more biased-model.\n",
    "* **eta**: This parameter is identical to the **learning_rate** parameter from the above GBM\n",
    "* **alpha**: Introduces the L1 regulirzation penality term, this essentially ensures less valuable features are represented less in the given model.\n",
    "\n",
    "* **lambda**: Introduces the L2 regulirzation penality term, Similar to alpha this introduces weights that changes the impact of different variables, both the lambda and alpha parameter help reduces the complexity of a given model, increasing bias. \n",
    "\n",
    "* **colsample_bytree**: Similar to the MAX_features parameter in the above GBM; it provides the proportion of features that should be used when training each tree, or estimater.\n",
    "\n",
    "* **min_child_weight**: Paramter that helps determine whether or not further partitions are needed, if a given child (an estimater) instance weight is below the **min_child_weight** then training will stop and no more child trees will be calculated.\n",
    "\n",
    "* **n_estimators**: This parameter is the same as the **n_estimators** parameter in the above GBM"
   ]
  },
  {
   "cell_type": "code",
   "execution_count": 77,
   "metadata": {
    "pycharm": {
     "is_executing": true
    },
    "scrolled": true
   },
   "outputs": [
    {
     "name": "stdout",
     "output_type": "stream",
     "text": [
      "Weighted f1_score: 0.7397 ± 0.0596                    \n",
      "Weighted f1_score: 0.3666 ± 0.0339                                               \n",
      "Weighted f1_score: 0.5572 ± 0.0301                                               \n",
      "Weighted f1_score: 0.6414 ± 0.0565                                               \n",
      "Weighted f1_score: 0.3673 ± 0.0236                                               \n",
      "Weighted f1_score: 0.6056 ± 0.0372                                               \n",
      "Weighted f1_score: 0.7537 ± 0.0363                                               \n",
      "Weighted f1_score: 0.6938 ± 0.0251                                               \n",
      "Weighted f1_score: 0.7717 ± 0.0318                                               \n",
      "Weighted f1_score: 0.7191 ± 0.0675                                               \n",
      "Weighted f1_score: 0.7561 ± 0.0384                                                \n",
      "Weighted f1_score: 0.7096 ± 0.0705                                                \n",
      "Weighted f1_score: 0.669 ± 0.0248                                                 \n",
      "Weighted f1_score: 0.7544 ± 0.0632                                                \n",
      "Weighted f1_score: 0.7456 ± 0.0255                                                \n",
      "Weighted f1_score: 0.4677 ± 0.0748                                                \n",
      "Weighted f1_score: 0.7349 ± 0.0491                                                \n",
      "Weighted f1_score: 0.6796 ± 0.0584                                                \n",
      "Weighted f1_score: 0.6911 ± 0.0187                                                \n",
      "Weighted f1_score: 0.4381 ± 0.0463                                                \n",
      "Weighted f1_score: 0.696 ± 0.0765                                                 \n",
      "Weighted f1_score: 0.5124 ± 0.0398                                                \n",
      "Weighted f1_score: 0.7652 ± 0.0301                                                \n",
      "Weighted f1_score: 0.7751 ± 0.0502                                                \n",
      "Weighted f1_score: 0.7355 ± 0.0306                                                \n",
      "Weighted f1_score: 0.7346 ± 0.0306                                                \n",
      "Weighted f1_score: 0.7211 ± 0.0328                                                \n",
      "Weighted f1_score: 0.4789 ± 0.0889                                                \n",
      "Weighted f1_score: 0.4556 ± 0.0137                                                \n",
      "Weighted f1_score: 0.6889 ± 0.0728                                                \n",
      "Weighted f1_score: 0.7181 ± 0.0503                                                \n",
      "Weighted f1_score: 0.5751 ± 0.0271                                                \n",
      "Weighted f1_score: 0.6994 ± 0.0169                                                \n",
      "Weighted f1_score: 0.3858 ± 0.0477                                                \n",
      "Weighted f1_score: 0.3604 ± 0.0242                                                \n",
      "Weighted f1_score: 0.6884 ± 0.0421                                                \n",
      "Weighted f1_score: 0.7106 ± 0.043                                                 \n",
      "Weighted f1_score: 0.3657 ± 0.0094                                                \n",
      "Weighted f1_score: 0.7004 ± 0.069                                                 \n",
      "Weighted f1_score: 0.6946 ± 0.0426                                                \n",
      "Weighted f1_score: 0.6951 ± 0.0033                                                \n",
      "Weighted f1_score: 0.6131 ± 0.0516                                                \n",
      "Weighted f1_score: 0.5308 ± 0.018                                                 \n",
      "Weighted f1_score: 0.5175 ± 0.0476                                                \n",
      "Weighted f1_score: 0.7593 ± 0.0279                                                \n",
      "Weighted f1_score: 0.6451 ± 0.0557                                                \n",
      "Weighted f1_score: 0.7258 ± 0.0572                                                \n",
      "Weighted f1_score: 0.6877 ± 0.0374                                                \n",
      "Weighted f1_score: 0.7293 ± 0.0087                                                \n",
      "Weighted f1_score: 0.743 ± 0.0155                                                 \n",
      "100%|██████████| 50/50 [03:12<00:00,  3.86s/trial, best loss: -0.7751226931279555]\n"
     ]
    }
   ],
   "source": [
    "space={'max_depth': hp.choice(\"max_depth\", np.arange(3, 15,dtype=int)),\n",
    "        'gamma': hp.uniform ('gamma', 0,1),\n",
    "        'eta' : hp.uniform(\"eta\",0,1),\n",
    "        'alpha' : hp.choice('alpha', np.arange(0,10,dtype=int)),\n",
    "        'lambda' : hp.uniform('lambda', 0,1),\n",
    "        'colsample_bytree' : hp.uniform('colsample_bytree', 0.1,1),\n",
    "        'min_child_weight' : hp.choice('min_child_weight',np.arange( 1, 10,dtype=int)),\n",
    "        'n_estimators': 500,\n",
    "       'max_delta_step':hp.choice(\"max_delta_step\",np.arange(0,10,dtype=int)),\n",
    "       \"early_stopping_rounds\":5,\n",
    "        'seed': 166\n",
    "    }\n",
    "\n",
    "\n",
    "def objective(space):\n",
    "        '''A requirement for hyperopt's fmin function, its holds the estimater being tested as well as any scoring or loss\n",
    "    metrics that want to be captured.\n",
    "    \n",
    "    Parameters\n",
    "    ----------\n",
    "    \n",
    "    space: dict\n",
    "        A dictonary containing the parameters to be used and tested in in the objective model. values to be optimized \n",
    "        should be an itterable object that makes use of hyperopt.hp functions.\n",
    "    '''\n",
    "        \n",
    "\n",
    "        xg_clf=xgb.XGBClassifier(eval_metric=\"mlogloss\",\n",
    "                          eta=space['eta'],\n",
    "                          n_estimators =space['n_estimators'], \n",
    "                          max_depth = (space['max_depth']), \n",
    "                          gamma = space['gamma'],\n",
    "                          alpha = space[\"alpha\"],\n",
    "                          max_delta_step = space[\"max_delta_step\"],\n",
    "                          min_child_weight=(space['min_child_weight']),\n",
    "                          colsample_bytree=(space['colsample_bytree']),\n",
    "                                 seed=space[\"seed\"],\n",
    "                                objective=\"multi:softprob\")\n",
    "         \n",
    "           \n",
    "\n",
    "        results = cross_val_score(xg_clf, X_train_new, y_train_encoded, cv=3,scoring=\"f1_weighted\",n_jobs=-1)\n",
    "        print (f\"Weighted f1_score: {round(results.mean(),4)} ± {round(results.std(),4)}\")\n",
    "        return {'loss': -results.mean(), 'status': STATUS_OK }\n",
    "\n",
    "\n",
    "trials = Trials()\n",
    "\n",
    "best_hyperparams_XG = fmin(fn = objective,\n",
    "                        space = space,\n",
    "                        algo = tpe.suggest,\n",
    "                        max_evals = 50,\n",
    "                        trials = trials)\n",
    "\n",
    "final_XG = xgb.XGBClassifier(**best_hyperparams_XG)"
   ]
  },
  {
   "cell_type": "markdown",
   "metadata": {},
   "source": [
    "#### Model analysis through visualizations\n",
    "\n",
    "Below we create a function that can take any number of estimaters (i.e any object that makes use of the .fit() and .predict() methods) and produce two useful graphs for comparison.\n",
    "\n",
    "#### Graph 1 - Performance learning curve\n",
    "\n",
    "The first Graph we utalise is the most important for model comparison (assuming both models have been optimized and validated). Here we compare the effect training data size has on performance. It also allows us to see how well each model can generalise to un-seen data. Ideally, we would hope to see the performance of a model continously increase as training size increases, and for the overall function to be smooth.\n",
    "\n",
    "\n",
    "#### Graph 2 - time to fit curve\n",
    "\n",
    "The second graph shows the time required to fit the given estimater, with a given sample size; This helps illustrate the scalability of the different models. \n",
    "\n",
    "From the two graphs together, we can get a better understanding of the performance-time trade off, i.e; does the model offer sufficently accurate predictions for time it takes to run?"
   ]
  },
  {
   "cell_type": "code",
   "execution_count": 78,
   "metadata": {
    "pycharm": {
     "is_executing": true
    }
   },
   "outputs": [],
   "source": [
    "def performance_learning_curve(estimaters,X,y,cv_k=3,scoring=\"f1_weighted\",train_size=np.linspace(0.1, 1, 50),estimater_names = None):\n",
    "    '''Using one or more estimaters (objects that make use of the .predict() and .fit() methods), two graphs are plotted one \n",
    "    displays the learning curve, the other fit-times. It makes use of the learning_curve function from sklearn.\n",
    "    \n",
    "    Parameters\n",
    "    ----------\n",
    "     estimaters: estimator object or list\n",
    "        If estimator object Then the estimator instance to be viewed\n",
    "        or a list of estimater instances, in which case each estimater will be viewed together on the same plot\n",
    "        \n",
    "     X: array-like of shape(n_samples, n_features)\n",
    "         The feautures and their records to be used for training, and validating\n",
    "         \n",
    "     y: array-like of shape (n_samples) \n",
    "        The dependant variable (labels) that corraspond to the records seen in X.\n",
    "\n",
    "     cv: int\n",
    "         The number of rounds to be used in cross validation, at the moment only K-fold cross validation is available.\n",
    "     \n",
    "     scoring: str\n",
    "         The score metric to be used for determining estimater success. A list of available scores can be seen here:\n",
    "         https://scikit-learn.org/stable/modules/model_evaluation.html\n",
    "         (default \"f1_weighted\")\n",
    "     \n",
    "     train_size: array-like of shape (n_ticks)\n",
    "        Relative or absolute numbers of training examples that will be used to\n",
    "        generate the learning curve. If the ``dtype`` is float, it is regarded\n",
    "        as a fraction of the maximum size of the training set (that is\n",
    "        determined by the selected validation method), i.e. it has to be within\n",
    "        (0, 1]. Otherwise it is interpreted as absolute sizes of the training\n",
    "        sets. Note that for classification the number of samples usually have\n",
    "        to be big enough to contain at least one sample from each class.\n",
    "        (default: np.linspace(0.1, 1.0, 5))\n",
    "    '''\n",
    "    cv = StratifiedKFold(cv_k)\n",
    "    # perform cross validation on the estimater(s)   \n",
    "    if type(estimaters) ==list:\n",
    "        estimater_results = []\n",
    "        for estimater in estimaters:\n",
    "            train_sizes_abs, train_scores, test_scores,fit_times,score_times= learning_curve(estimater, \n",
    "                                                            X,\n",
    "                                                            y, \n",
    "                                                            cv=cv, \n",
    "                                                            scoring=scoring, \n",
    "                                                            train_sizes=train_size,\n",
    "                                                            return_times=True,\n",
    "                                                            n_jobs= -1,\n",
    "                                                            random_state=34543)\n",
    "    \n",
    "            estimater_results.append([train_sizes_abs, train_scores, test_scores,fit_times])\n",
    "    else:\n",
    "        try:\n",
    "            estimater = estimaters\n",
    "            train_sizes_abs, train_scores, test_scores,fit_times,score_times= learning_curve(estimater, \n",
    "                                                                X,\n",
    "                                                                y, \n",
    "                                                                cv=cv, \n",
    "                                                                scoring=scoring, \n",
    "                                                                train_sizes=train_size,\n",
    "                                                                return_times=True,\n",
    "                                                                n_jobs= -1,\n",
    "                                                                random_state=34543)\n",
    "            estimater_results = [[train_sizes_abs, train_scores, test_scores,fit_times]]\n",
    "       \n",
    "        except:\n",
    "            raise TypeError(\"estimater input must either be a list of model objects or a single model object\")\n",
    "    if estimater_names:       \n",
    "        create_graph(estimater_results,scoring,estimater_names)\n",
    "    else:\n",
    "         create_graph(estimater_results,scoring)\n",
    "        \n",
    "def create_graph(estimater_results,scoring,estimater_names=None):\n",
    "    '''This work in conjunction with the performance_learning_curve function, but can also be used seperatly if a \n",
    "    learning_curve has been calculated manually, it produces a set of comparative curves that can be used for validating,\n",
    "    and comparing various estimators.\n",
    "    \n",
    "    Parameters\n",
    "    ----------\n",
    "    estimater_results: array-like of shape (n_estimators)\n",
    "        An array-like object that contains the results from sklearn.learning_curve; i.e information on train, and test scores,\n",
    "        aswell as fit times.\n",
    "    \n",
    "    scoring: str\n",
    "        The score metric to be used for determining estimater success. A list of available scores can be seen here:\n",
    "         https://scikit-learn.org/stable/modules/model_evaluation.html\n",
    "     \n",
    "     estimater_names: array-like of shape (n_feature_names)\n",
    "         An array like that has the names of the estimaters to be used for legneds. if None, they will be labeled as\n",
    "         estimaterN where N is an integer defining the order of estimaters being visualised.\n",
    "         (default None)\n",
    "    \n",
    "    '''\n",
    "    # colours to be used for estimator\n",
    "    colours = ['tab:green',\n",
    "               'tab:red',\n",
    "                'tab:blue',\n",
    "                'tab:orange',\n",
    "                'tab:purple',\n",
    "                'tab:brown',\n",
    "                'tab:pink',\n",
    "                'tab:gray',\n",
    "                'tab:olive',\n",
    "                'tab:cyan']\n",
    "    \n",
    "    fig, (ax1,ax2) = plt.subplots(1,2, figsize=(10,6))\n",
    "\n",
    "    for numb,results in enumerate(estimater_results):\n",
    "        if estimater_names:\n",
    "                name = estimater_names[numb]\n",
    "        else:\n",
    "            name = f\"estimater {numb+1}\"\n",
    "        train_sizes_abs = results[0]\n",
    "        train_scores = results[1]\n",
    "        test_scores = results[2]\n",
    "        fit_times = results[3]\n",
    "\n",
    "        train_mean = np.mean(train_scores, axis=1)\n",
    "        train_std = np.std(train_scores, axis=1)\n",
    "\n",
    "        test_mean = np.mean(test_scores, axis=1)\n",
    "        test_std = np.std(test_scores, axis=1)\n",
    "\n",
    "        fit_mean = np.mean(fit_times,axis=1)\n",
    "        \n",
    "        #plot training_size vs test_mean on ax1\n",
    "        #plot training_size vs fit_mean on ax2\n",
    "        ax1.plot(train_sizes_abs, test_mean, \"--\",color=colours[numb], label=f\"{name}\")\n",
    "        ax2.plot(train_sizes_abs,fit_mean,\"--\",color=colours[numb],label=f\"{name}\")\n",
    "        \n",
    "        \n",
    "\n",
    "    fig.suptitle(\"Model analysis\")\n",
    "    ax1.title.set_text(\"Performance Learning Curve\")\n",
    "\n",
    "    ax1.set_xlabel(\"Training Set Size\"), \n",
    "    ax1.set_ylabel(f\"{scoring} Score\"), \n",
    "    ax1.legend(loc=\"best\")\n",
    "    \n",
    "    ax2.title.set_text(\"Fit time curve\")\n",
    "    ax2.set_xlabel(\"Training Set Size\")\n",
    "    ax2.legend(loc=\"best\")\n",
    "    ax2.set_ylabel(\"Time (seconds)\")\n",
    "    plt.tight_layout()\n",
    "    \n",
    "    plt.show()"
   ]
  },
  {
   "cell_type": "code",
   "execution_count": 79,
   "metadata": {
    "pycharm": {
     "is_executing": true
    },
    "scrolled": true
   },
   "outputs": [
    {
     "data": {
      "image/png": "[encoded data removed]",
      "text/plain": [
       "<Figure size 720x432 with 2 Axes>"
      ]
     },
     "metadata": {
      "needs_background": "light"
     },
     "output_type": "display_data"
    }
   ],
   "source": [
    "performance_learning_curve([final_XG,final_GBM,MultinomialNB()],X_train_new,y_train_encoded,cv_k=3,train_size=np.linspace(0.1, 1, 50),\n",
    "                          estimater_names=[\"XGboost\",\"GBM\",\"NB\"])"
   ]
  },
  {
   "cell_type": "code",
   "execution_count": 80,
   "metadata": {
    "pycharm": {
     "is_executing": true
    }
   },
   "outputs": [
    {
     "name": "stdout",
     "output_type": "stream",
     "text": [
      "---------Optimised parameters---------\n",
      "\n",
      "XG Model:\n",
      "------------------\n",
      "alpha: 1\n",
      "colsample_bytree: 0.3183476227900784\n",
      "eta: 0.4172454752422733\n",
      "gamma: 0.4877504053781552\n",
      "lambda: 0.3315051070173233\n",
      "max_delta_step: 3\n",
      "max_depth: 11\n",
      "min_child_weight: 1\n",
      "\n",
      "GBM Model:\n",
      "------------------\n",
      "learning_rate: 0.1555162204307514\n",
      "max_depth: 12\n",
      "max_features: 0.543465781599653\n",
      "min_samples_leaf: 7\n",
      "subsample: 0.848900372135685\n"
     ]
    }
   ],
   "source": [
    "print(\"---------Optimised parameters---------\")\n",
    "print(\"\\nXG Model:\\n------------------\")\n",
    "for i in best_hyperparams_XG.keys():\n",
    "    print(f\"{i}: {best_hyperparams_XG[i]}\")\n",
    "\n",
    "print(\"\\nGBM Model:\\n------------------\")\n",
    "for i in best_hyperparams_GBM.keys():\n",
    "    print(f\"{i}: {best_hyperparams_GBM[i]}\")"
   ]
  },
  {
   "cell_type": "markdown",
   "metadata": {},
   "source": [
    "### Analysis of model results\n",
    "\n",
    "\n",
    "\n",
    "#### XGboost model \n",
    "\n",
    "**Optimised parameters**\n",
    "\n",
    "\n",
    "Through the process of parameter optimsation it was clear that the XGboost algorithim on our data was highly-paramater dependant, there was a huge range in weighted f-scores, with the worst tests showing a score of less than 0.1, and the best showing a score above 0.7. It would appear that the time spent on parameter optimization was worth it, clearly the model generalizes well, as can be seen by the relativily smooth increase in accuracy as training size increases. Note that on each itteration a different portion of training data is selected for validation and training, thus; we would expect a good model performance learning curve to be both smooth, and to increase as training size increases. Ontop of this, reasonable accuracy was seen even on small training data sets, with a weighted f1-score of 0.5 with 35 records used for training. XGboost did however fail to make predictions on training datasets smaller than this. Interestingly, the fit time for XGboost is relativly low, and infact the rate of increase of fit time relative to training dataset size is also increases quite low.  it is possible therefore, that if this model was to be generalized to a huge corpus, fitting time could become an issue. Luckily, this implemntation of XGBoost is distributed, meaning aslong as there is sufficent computing power (or access to a distributed-computing cluster), the model can be scaled to much larger datasets.\n",
    "\n",
    "As training size increases, the rate of change of accuracy decreases. This could suggest there is a plateu in the model's performance, To reach significantly higher accuracy than is seen here could require the use of more complex features, for example; rather than using tf-idf features it may be worth utalising word2vec, or gloVe for word embedding, which would help capture the context of words better and could be more representative of the authors style of writing. \n",
    "\n",
    "\n",
    "#### GBM model \n",
    "\n",
    "As could be expected, sklearn's GBM implementation saw very similar accuracy to the XGboost model, a notable difference, however is fit time. Hyperopt found that the best max_depth for the GBM was much higher than that of XGboost, which slowed the algorithim down quite alot. \n",
    "\n",
    "\n",
    "#### Naieve Bayes model\n",
    "\n",
    "This model was more evaluated just for the purpose of showing how much better the ensamble methods were, clearly it performed quite poorly, the one redeeming factor however is; it is extremly fast to fit compared to the other two. "
   ]
  },
  {
   "cell_type": "markdown",
   "metadata": {},
   "source": [
    "#### Final model.\n",
    "\n",
    "To finish, we will train and fit the a final model, using the best parameters found in the above tests. "
   ]
  },
  {
   "cell_type": "code",
   "execution_count": 81,
   "metadata": {
    "pycharm": {
     "is_executing": true
    }
   },
   "outputs": [
    {
     "name": "stdout",
     "output_type": "stream",
     "text": [
      "              precision    recall  f1-score   support\n",
      "\n",
      "           0       0.71      0.56      0.63         9\n",
      "           1       0.88      0.78      0.82         9\n",
      "           2       0.88      0.96      0.92        24\n",
      "           3       0.62      0.84      0.71        19\n",
      "           4       1.00      1.00      1.00         9\n",
      "           5       0.67      0.67      0.67         9\n",
      "           6       1.00      0.87      0.93        15\n",
      "           7       0.58      0.58      0.58        12\n",
      "           8       0.57      0.36      0.44        11\n",
      "\n",
      "    accuracy                           0.77       117\n",
      "   macro avg       0.77      0.73      0.74       117\n",
      "weighted avg       0.77      0.77      0.76       117\n",
      "\n"
     ]
    },
    {
     "data": {
      "image/png": "[encoded data removed]",
      "text/plain": [
       "<Figure size 1008x432 with 2 Axes>"
      ]
     },
     "metadata": {
      "needs_background": "light"
     },
     "output_type": "display_data"
    },
    {
     "data": {
      "image/png": "[encoded data removed]",
      "text/plain": [
       "<Figure size 360x360 with 1 Axes>"
      ]
     },
     "metadata": {
      "needs_background": "light"
     },
     "output_type": "display_data"
    }
   ],
   "source": [
    "## final model \n",
    "# creating an evaluation set to generate validation curves.\n",
    "eval_set = [(X_train_new, y_train_encoded), (X_test_new, y_test_encoded)]\n",
    "final_XG.set_params(early_stopping_rounds=5,eval_metric=[\"merror\", \"mlogloss\"])\n",
    "final_model =final_XG.fit(X_train_new,y_train_encoded,eval_set=eval_set,verbose=False)\n",
    "\n",
    "final_results = final_model.predict(X_test_new)\n",
    "\n",
    "print(classification_report(y_test_encoded,final_results))\n",
    "\n",
    "final_results_metrics = final_XG.evals_result()\n",
    "\n",
    "\n",
    "train_mlogloss = final_results_metrics[\"validation_0\"][\"mlogloss\"]\n",
    "test_mlogloss = final_results_metrics[\"validation_1\"][\"mlogloss\"]\n",
    "\n",
    "train_merror = final_results_metrics[\"validation_0\"][\"merror\"]\n",
    "test_merror = final_results_metrics[\"validation_1\"][\"merror\"]\n",
    "epochs = len(train_mlogloss)\n",
    "\n",
    "x_axis = range(0, epochs)\n",
    "\n",
    "fig, (ax1,ax2,) = plt.subplots(1,2,figsize=(14,6))\n",
    "ax1.plot(x_axis, train_mlogloss, label='Train')\n",
    "ax1.plot(x_axis, test_mlogloss, label='Test')\n",
    "ax1.legend()\n",
    "ax1.set_ylabel('mlogloss')\n",
    "ax1.set_title('XGBoost mlogloss')\n",
    "\n",
    "\n",
    "ax2.plot(x_axis, train_merror, label='Train')\n",
    "ax2.plot(x_axis, test_merror, label='Test')\n",
    "ax2.legend()\n",
    "plt.ylabel('Classification Error')\n",
    "ax2.set_title('XGBoost Classification Error')\n",
    "\n",
    "plt.show()\n",
    "\n",
    "fig, ax = plt.subplots(1,1,figsize=(5,5))\n",
    "xgb.plot_importance(final_model, max_num_features=15, ax=ax)\n",
    "plt.show()"
   ]
  },
  {
   "cell_type": "markdown",
   "metadata": {},
   "source": [
    "### Conclusion \n",
    "\n",
    "In this project we set out with the goal of generating a predictive model that could correctly classify, and thus identify an author solely on bodies of text that they produce. Using article data scraped from the BBC website We made good progress achieving this goal, by producing a model that could correctly classify articles with an overall accuracy of 76%. In general, authors that had written fewer articles saw worst scores in the final model, with the lowest having an f1-score of only 0.44.\n",
    "\n",
    "We identified that out of three explored models, namely, multinominal naieve bayes, sklearn's implementation of a GBM classifier, and XGboost, XGboost performed the best overall.Although its accuracy was basically the exact same as sklearn's GBM, the speed to fit is significantly faster.The main reason for this is, it has a lower maximum depth (5 vs 12) The model also generalises well to unseen data, This can be seen in both the performance learning curve, and the above logloss curve which shows a continously steady decline in mlogloss on par with the training data set. Meaning this is a good basis for future work on a larger corpus. The terms created from tf-idf were by far the most important features, with 13 of the 15 most important features in the final model being tfidf variables which builds on the theory that having access to a larger corpus would greatly benefit the results seen by the model.\n",
    "\n",
    "\n"
   ]
  },
  {
   "cell_type": "markdown",
   "metadata": {},
   "source": [
    "## References\n",
    "\n",
    "A. Voutilainen, 2003. Part-of-speech tagging (Vol. 219). The Oxford handbook of computational linguistics.\n",
    "\n",
    "\n",
    "\n",
    "T. Mikolov, K. Chan, G. Corrado, J. Dean, 2013, ‘Efficient estimation of word representations in vector space’, arXiv preprint\n",
    "\n",
    "\n",
    "\n",
    "A. Onan and M. A. Toçoğlu, 2021, ‘A Term Weighted Neural Language Model and Stacked Bidirectional LSTM Based Framework for Sarcasm Identification’, IEEE, vol. 9, pp. 7701-7722\n",
    "\n",
    "\n",
    "Y. Zhang, R. Jin, Z. H. Zhou, 2010. Understanding bag-of-words model: a statistical framework. International journal of machine learning and cybernetics, 1(1), pp.43-52.\n",
    "\n",
    "R. Rehurek, and P. Sojka, 2011. Gensim–python framework for vector space modelling. NLP Centre, Faculty of Informatics, Masaryk University, Brno, Czech Republic, 3(2)."
   ]
  },
  {
   "cell_type": "code",
   "execution_count": null,
   "metadata": {
    "pycharm": {
     "is_executing": true
    }
   },
   "outputs": [],
   "source": []
  }
 ],
 "metadata": {
  "kernelspec": {
   "display_name": "Python 3 (ipykernel)",
   "language": "python",
   "name": "python3"
  },
  "language_info": {
   "codemirror_mode": {
    "name": "ipython",
    "version": 3
   },
   "file_extension": ".py",
   "mimetype": "text/x-python",
   "name": "python",
   "nbconvert_exporter": "python",
   "pygments_lexer": "ipython3",
   "version": "3.9.7"
  }
 },
 "nbformat": 4,
 "nbformat_minor": 1
}